{
 "cells": [
  {
   "cell_type": "code",
   "execution_count": 5,
   "metadata": {},
   "outputs": [],
   "source": [
    "import pandas as pd\n",
    "import numpy as np\n",
    "import warnings\n",
    "warnings.filterwarnings('ignore')\n",
    "pd.set_option('display.max_rows', None)\n",
    "pd.set_option('display.max_columns', None)\n",
    "from sklearn.preprocessing import StandardScaler, MinMaxScaler, LabelEncoder"
   ]
  },
  {
   "cell_type": "code",
   "execution_count": 198,
   "metadata": {},
   "outputs": [],
   "source": [
    "s12 = pd.read_excel(r'C:\\Users\\LENOVO\\Desktop\\SAGES excel.xlsx', sheet_name=0)\n",
    "s34 = pd.read_excel(r'C:\\Users\\LENOVO\\Desktop\\SAGES excel.xlsx', sheet_name=1)"
   ]
  },
  {
   "cell_type": "code",
   "execution_count": 199,
   "metadata": {},
   "outputs": [
    {
     "name": "stdout",
     "output_type": "stream",
     "text": [
      "(39, 22) (23, 22)\n"
     ]
    }
   ],
   "source": [
    "print(s12.shape, s34.shape)"
   ]
  },
  {
   "cell_type": "code",
   "execution_count": 200,
   "metadata": {},
   "outputs": [],
   "source": [
    "s12['Yielding duration, SAGES-2, hrs'].fillna(0, inplace=True)\n",
    "s12['Yieliding duration, SAGES-1, hrs'].fillna(0, inplace=True)\n",
    "s34['Yieliding duration, SAGES-3, hrs'].fillna(0, inplace=True)\n",
    "s34['Yielding duration, SAGES-4, hrs'].fillna(0, inplace=True)"
   ]
  },
  {
   "cell_type": "code",
   "execution_count": 201,
   "metadata": {},
   "outputs": [],
   "source": [
    "s12['Blasting to induce caving'].fillna(0, inplace=True)"
   ]
  },
  {
   "cell_type": "code",
   "execution_count": 202,
   "metadata": {},
   "outputs": [],
   "source": [
    "s12.rename(columns={'Yieliding duration, SAGES-1, hrs':'Yielding duration, SAGES-1, hrs'}, inplace=True)\n",
    "s34.rename(columns={'Yieliding duration, SAGES-3, hrs':'Yielding duration, SAGES-3, hrs'}, inplace=True)"
   ]
  },
  {
   "cell_type": "code",
   "execution_count": 203,
   "metadata": {},
   "outputs": [],
   "source": [
    "s34['Convergence, SAGES-4'].replace({'D':0}, inplace=True)"
   ]
  },
  {
   "cell_type": "code",
   "execution_count": 204,
   "metadata": {},
   "outputs": [],
   "source": [
    "for data in [s12, s34]:\n",
    "    data['Blasting to induce caving'] = data['Blasting to induce caving'].replace('Y/', '', regex=True).astype('int')\n",
    "    data['With drawal date'] = pd.to_datetime(data['With drawal date'])\n",
    "    data['Set date'] = pd.to_datetime(data['Set date'])\n",
    "    data['Set date'] = data['Set date'].dt.strftime('%d-%m-%Y').astype('datetime64')\n",
    "    data['With drawal date'] = data['With drawal date'].dt.strftime('%d-%m-%Y').astype('datetime64')\n",
    "    data.rename(columns={'With drawal date':'Withdrawal date', 'Level ':'Level', 'Slice no. ':'Slice'}, inplace=True)\n",
    "    data.drop(columns=['Roof and side condition', 'Percent extraction of the rib, %', 'Sl. No.'], inplace=True)\n",
    "    data['Block'].replace({'A':-1, 'B':1}, inplace=True)\n",
    "    data['Dip'] = data['Dip'].str[:-1].astype('int64')\n",
    "    data['Level'] = data['Level'].str[:2].astype('int64')"
   ]
  },
  {
   "cell_type": "code",
   "execution_count": 205,
   "metadata": {},
   "outputs": [
    {
     "data": {
      "text/html": [
       "<div>\n",
       "<style scoped>\n",
       "    .dataframe tbody tr th:only-of-type {\n",
       "        vertical-align: middle;\n",
       "    }\n",
       "\n",
       "    .dataframe tbody tr th {\n",
       "        vertical-align: top;\n",
       "    }\n",
       "\n",
       "    .dataframe thead th {\n",
       "        text-align: right;\n",
       "    }\n",
       "</style>\n",
       "<table border=\"1\" class=\"dataframe\">\n",
       "  <thead>\n",
       "    <tr style=\"text-align: right;\">\n",
       "      <th></th>\n",
       "      <th>Level</th>\n",
       "      <th>Dip</th>\n",
       "      <th>Slice</th>\n",
       "      <th>FACE advance, m</th>\n",
       "      <th>Set date</th>\n",
       "      <th>Set load, SAGES-1</th>\n",
       "      <th>Set Load, SAGES-2</th>\n",
       "      <th>Withdrawal date</th>\n",
       "      <th>Withdrawal load, SAGES-1</th>\n",
       "      <th>Withdrawal load, SAGES-2</th>\n",
       "      <th>Convergence, SAGES-1</th>\n",
       "      <th>Convergence, SAGES-2</th>\n",
       "      <th>Yielding duration, SAGES-1, hrs</th>\n",
       "      <th>Yielding duration, SAGES-2, hrs</th>\n",
       "      <th>Slice extraction duration, days</th>\n",
       "      <th>Tie taken in withdrawal of the SAGES, min</th>\n",
       "      <th>Uncaved roof exposure, 2</th>\n",
       "      <th>Blasting to induce caving</th>\n",
       "      <th>Block</th>\n",
       "    </tr>\n",
       "  </thead>\n",
       "  <tbody>\n",
       "    <tr>\n",
       "      <th>0</th>\n",
       "      <td>31</td>\n",
       "      <td>9</td>\n",
       "      <td>47</td>\n",
       "      <td>333</td>\n",
       "      <td>2017-01-08</td>\n",
       "      <td>128</td>\n",
       "      <td>118</td>\n",
       "      <td>2017-08-05</td>\n",
       "      <td>169</td>\n",
       "      <td>117</td>\n",
       "      <td>5</td>\n",
       "      <td>2</td>\n",
       "      <td>0.0</td>\n",
       "      <td>0.0</td>\n",
       "      <td>4</td>\n",
       "      <td>6</td>\n",
       "      <td>100</td>\n",
       "      <td>0</td>\n",
       "      <td>-1</td>\n",
       "    </tr>\n",
       "    <tr>\n",
       "      <th>1</th>\n",
       "      <td>31</td>\n",
       "      <td>9</td>\n",
       "      <td>48</td>\n",
       "      <td>339</td>\n",
       "      <td>2017-05-08</td>\n",
       "      <td>132</td>\n",
       "      <td>104</td>\n",
       "      <td>2017-08-09</td>\n",
       "      <td>169</td>\n",
       "      <td>154</td>\n",
       "      <td>23</td>\n",
       "      <td>11</td>\n",
       "      <td>31.0</td>\n",
       "      <td>0.0</td>\n",
       "      <td>4</td>\n",
       "      <td>3</td>\n",
       "      <td>200</td>\n",
       "      <td>0</td>\n",
       "      <td>-1</td>\n",
       "    </tr>\n",
       "    <tr>\n",
       "      <th>2</th>\n",
       "      <td>31</td>\n",
       "      <td>9</td>\n",
       "      <td>49</td>\n",
       "      <td>345</td>\n",
       "      <td>2017-09-08</td>\n",
       "      <td>140</td>\n",
       "      <td>95</td>\n",
       "      <td>2017-08-19</td>\n",
       "      <td>158</td>\n",
       "      <td>114</td>\n",
       "      <td>2</td>\n",
       "      <td>5</td>\n",
       "      <td>0.0</td>\n",
       "      <td>0.0</td>\n",
       "      <td>10</td>\n",
       "      <td>55</td>\n",
       "      <td>300</td>\n",
       "      <td>0</td>\n",
       "      <td>-1</td>\n",
       "    </tr>\n",
       "    <tr>\n",
       "      <th>3</th>\n",
       "      <td>31</td>\n",
       "      <td>9</td>\n",
       "      <td>50</td>\n",
       "      <td>351</td>\n",
       "      <td>2017-08-19</td>\n",
       "      <td>110</td>\n",
       "      <td>88</td>\n",
       "      <td>2017-08-25</td>\n",
       "      <td>175</td>\n",
       "      <td>133</td>\n",
       "      <td>14</td>\n",
       "      <td>3</td>\n",
       "      <td>0.0</td>\n",
       "      <td>0.0</td>\n",
       "      <td>6</td>\n",
       "      <td>22</td>\n",
       "      <td>400</td>\n",
       "      <td>0</td>\n",
       "      <td>-1</td>\n",
       "    </tr>\n",
       "    <tr>\n",
       "      <th>4</th>\n",
       "      <td>31</td>\n",
       "      <td>9</td>\n",
       "      <td>51</td>\n",
       "      <td>357</td>\n",
       "      <td>2017-08-25</td>\n",
       "      <td>140</td>\n",
       "      <td>90</td>\n",
       "      <td>2017-08-30</td>\n",
       "      <td>141</td>\n",
       "      <td>142</td>\n",
       "      <td>1</td>\n",
       "      <td>6</td>\n",
       "      <td>0.0</td>\n",
       "      <td>0.0</td>\n",
       "      <td>6</td>\n",
       "      <td>16</td>\n",
       "      <td>500</td>\n",
       "      <td>0</td>\n",
       "      <td>-1</td>\n",
       "    </tr>\n",
       "  </tbody>\n",
       "</table>\n",
       "</div>"
      ],
      "text/plain": [
       "   Level  Dip  Slice  FACE advance, m   Set date  Set load, SAGES-1  \\\n",
       "0     31    9     47              333 2017-01-08                128   \n",
       "1     31    9     48              339 2017-05-08                132   \n",
       "2     31    9     49              345 2017-09-08                140   \n",
       "3     31    9     50              351 2017-08-19                110   \n",
       "4     31    9     51              357 2017-08-25                140   \n",
       "\n",
       "   Set Load, SAGES-2 Withdrawal date  Withdrawal load, SAGES-1  \\\n",
       "0                118      2017-08-05                       169   \n",
       "1                104      2017-08-09                       169   \n",
       "2                 95      2017-08-19                       158   \n",
       "3                 88      2017-08-25                       175   \n",
       "4                 90      2017-08-30                       141   \n",
       "\n",
       "   Withdrawal load, SAGES-2  Convergence, SAGES-1  Convergence, SAGES-2  \\\n",
       "0                       117                     5                     2   \n",
       "1                       154                    23                    11   \n",
       "2                       114                     2                     5   \n",
       "3                       133                    14                     3   \n",
       "4                       142                     1                     6   \n",
       "\n",
       "   Yielding duration, SAGES-1, hrs  Yielding duration, SAGES-2, hrs  \\\n",
       "0                              0.0                              0.0   \n",
       "1                             31.0                              0.0   \n",
       "2                              0.0                              0.0   \n",
       "3                              0.0                              0.0   \n",
       "4                              0.0                              0.0   \n",
       "\n",
       "   Slice extraction duration, days  Tie taken in withdrawal of the SAGES, min  \\\n",
       "0                                4                                          6   \n",
       "1                                4                                          3   \n",
       "2                               10                                         55   \n",
       "3                                6                                         22   \n",
       "4                                6                                         16   \n",
       "\n",
       "   Uncaved roof exposure, 2  Blasting to induce caving  Block  \n",
       "0                       100                          0     -1  \n",
       "1                       200                          0     -1  \n",
       "2                       300                          0     -1  \n",
       "3                       400                          0     -1  \n",
       "4                       500                          0     -1  "
      ]
     },
     "execution_count": 205,
     "metadata": {},
     "output_type": "execute_result"
    }
   ],
   "source": [
    "s12.head()"
   ]
  },
  {
   "cell_type": "code",
   "execution_count": 206,
   "metadata": {},
   "outputs": [
    {
     "data": {
      "text/html": [
       "<div>\n",
       "<style scoped>\n",
       "    .dataframe tbody tr th:only-of-type {\n",
       "        vertical-align: middle;\n",
       "    }\n",
       "\n",
       "    .dataframe tbody tr th {\n",
       "        vertical-align: top;\n",
       "    }\n",
       "\n",
       "    .dataframe thead th {\n",
       "        text-align: right;\n",
       "    }\n",
       "</style>\n",
       "<table border=\"1\" class=\"dataframe\">\n",
       "  <thead>\n",
       "    <tr style=\"text-align: right;\">\n",
       "      <th></th>\n",
       "      <th>Level</th>\n",
       "      <th>Dip</th>\n",
       "      <th>Slice</th>\n",
       "      <th>FACE advance, m</th>\n",
       "      <th>Set date</th>\n",
       "      <th>Set load, SAGES-3</th>\n",
       "      <th>Set Load, SAGES-4</th>\n",
       "      <th>Withdrawal date</th>\n",
       "      <th>Withdrawal load, SAGES-3</th>\n",
       "      <th>Withdrawal load, SAGES-4</th>\n",
       "      <th>Convergence, SAGES-3</th>\n",
       "      <th>Convergence, SAGES-4</th>\n",
       "      <th>Yielding duration, SAGES-3, hrs</th>\n",
       "      <th>Yielding duration, SAGES-4, hrs</th>\n",
       "      <th>Slice extraction duration, days</th>\n",
       "      <th>Tie taken in withdrawal of the SAGES, min</th>\n",
       "      <th>Uncaved roof exposure, 2</th>\n",
       "      <th>Blasting to induce caving</th>\n",
       "      <th>Block</th>\n",
       "    </tr>\n",
       "  </thead>\n",
       "  <tbody>\n",
       "    <tr>\n",
       "      <th>0</th>\n",
       "      <td>28</td>\n",
       "      <td>11</td>\n",
       "      <td>46</td>\n",
       "      <td>325</td>\n",
       "      <td>2017-06-11</td>\n",
       "      <td>87</td>\n",
       "      <td>141</td>\n",
       "      <td>2017-11-09</td>\n",
       "      <td>173</td>\n",
       "      <td>135</td>\n",
       "      <td>6</td>\n",
       "      <td>4</td>\n",
       "      <td>0.0</td>\n",
       "      <td>0.0</td>\n",
       "      <td>3</td>\n",
       "      <td>7</td>\n",
       "      <td>100</td>\n",
       "      <td>0</td>\n",
       "      <td>1</td>\n",
       "    </tr>\n",
       "    <tr>\n",
       "      <th>1</th>\n",
       "      <td>28</td>\n",
       "      <td>11</td>\n",
       "      <td>47</td>\n",
       "      <td>331</td>\n",
       "      <td>2017-09-11</td>\n",
       "      <td>29</td>\n",
       "      <td>96</td>\n",
       "      <td>2017-11-12</td>\n",
       "      <td>97</td>\n",
       "      <td>75</td>\n",
       "      <td>4</td>\n",
       "      <td>0</td>\n",
       "      <td>0.0</td>\n",
       "      <td>0.0</td>\n",
       "      <td>3</td>\n",
       "      <td>20</td>\n",
       "      <td>200</td>\n",
       "      <td>0</td>\n",
       "      <td>1</td>\n",
       "    </tr>\n",
       "    <tr>\n",
       "      <th>2</th>\n",
       "      <td>28</td>\n",
       "      <td>11</td>\n",
       "      <td>48</td>\n",
       "      <td>337</td>\n",
       "      <td>2017-12-11</td>\n",
       "      <td>48</td>\n",
       "      <td>85</td>\n",
       "      <td>2017-11-16</td>\n",
       "      <td>151</td>\n",
       "      <td>143</td>\n",
       "      <td>6</td>\n",
       "      <td>5</td>\n",
       "      <td>0.0</td>\n",
       "      <td>0.0</td>\n",
       "      <td>4</td>\n",
       "      <td>180</td>\n",
       "      <td>300</td>\n",
       "      <td>0</td>\n",
       "      <td>1</td>\n",
       "    </tr>\n",
       "    <tr>\n",
       "      <th>3</th>\n",
       "      <td>28</td>\n",
       "      <td>10</td>\n",
       "      <td>49</td>\n",
       "      <td>343</td>\n",
       "      <td>2017-11-16</td>\n",
       "      <td>65</td>\n",
       "      <td>83</td>\n",
       "      <td>2017-11-17</td>\n",
       "      <td>89</td>\n",
       "      <td>71</td>\n",
       "      <td>3</td>\n",
       "      <td>1</td>\n",
       "      <td>0.0</td>\n",
       "      <td>0.0</td>\n",
       "      <td>1</td>\n",
       "      <td>15</td>\n",
       "      <td>410</td>\n",
       "      <td>0</td>\n",
       "      <td>1</td>\n",
       "    </tr>\n",
       "    <tr>\n",
       "      <th>4</th>\n",
       "      <td>28</td>\n",
       "      <td>10</td>\n",
       "      <td>50</td>\n",
       "      <td>349</td>\n",
       "      <td>2017-11-17</td>\n",
       "      <td>93</td>\n",
       "      <td>128</td>\n",
       "      <td>2017-11-21</td>\n",
       "      <td>120</td>\n",
       "      <td>123</td>\n",
       "      <td>4</td>\n",
       "      <td>0</td>\n",
       "      <td>0.0</td>\n",
       "      <td>0.0</td>\n",
       "      <td>4</td>\n",
       "      <td>31</td>\n",
       "      <td>510</td>\n",
       "      <td>0</td>\n",
       "      <td>1</td>\n",
       "    </tr>\n",
       "  </tbody>\n",
       "</table>\n",
       "</div>"
      ],
      "text/plain": [
       "   Level  Dip  Slice  FACE advance, m   Set date  Set load, SAGES-3  \\\n",
       "0     28   11     46              325 2017-06-11                 87   \n",
       "1     28   11     47              331 2017-09-11                 29   \n",
       "2     28   11     48              337 2017-12-11                 48   \n",
       "3     28   10     49              343 2017-11-16                 65   \n",
       "4     28   10     50              349 2017-11-17                 93   \n",
       "\n",
       "   Set Load, SAGES-4 Withdrawal date  Withdrawal load, SAGES-3  \\\n",
       "0                141      2017-11-09                       173   \n",
       "1                 96      2017-11-12                        97   \n",
       "2                 85      2017-11-16                       151   \n",
       "3                 83      2017-11-17                        89   \n",
       "4                128      2017-11-21                       120   \n",
       "\n",
       "   Withdrawal load, SAGES-4  Convergence, SAGES-3  Convergence, SAGES-4  \\\n",
       "0                       135                     6                     4   \n",
       "1                        75                     4                     0   \n",
       "2                       143                     6                     5   \n",
       "3                        71                     3                     1   \n",
       "4                       123                     4                     0   \n",
       "\n",
       "   Yielding duration, SAGES-3, hrs  Yielding duration, SAGES-4, hrs  \\\n",
       "0                              0.0                              0.0   \n",
       "1                              0.0                              0.0   \n",
       "2                              0.0                              0.0   \n",
       "3                              0.0                              0.0   \n",
       "4                              0.0                              0.0   \n",
       "\n",
       "   Slice extraction duration, days  Tie taken in withdrawal of the SAGES, min  \\\n",
       "0                                3                                          7   \n",
       "1                                3                                         20   \n",
       "2                                4                                        180   \n",
       "3                                1                                         15   \n",
       "4                                4                                         31   \n",
       "\n",
       "   Uncaved roof exposure, 2  Blasting to induce caving  Block  \n",
       "0                       100                          0      1  \n",
       "1                       200                          0      1  \n",
       "2                       300                          0      1  \n",
       "3                       410                          0      1  \n",
       "4                       510                          0      1  "
      ]
     },
     "execution_count": 206,
     "metadata": {},
     "output_type": "execute_result"
    }
   ],
   "source": [
    "s34.head()"
   ]
  },
  {
   "cell_type": "code",
   "execution_count": 209,
   "metadata": {},
   "outputs": [],
   "source": [
    "s12.to_csv(r'C:\\Users\\LENOVO\\Desktop\\SAGES12_pre.csv', index=None)\n",
    "s34.to_csv(r'C:\\Users\\LENOVO\\Desktop\\SAGES34_pre.csv', index=None)"
   ]
  },
  {
   "cell_type": "code",
   "execution_count": 210,
   "metadata": {},
   "outputs": [
    {
     "name": "stdout",
     "output_type": "stream",
     "text": [
      "(39, 19) (23, 19)\n"
     ]
    }
   ],
   "source": [
    "print(s12.shape, s34.shape)"
   ]
  },
  {
   "cell_type": "code",
   "execution_count": 211,
   "metadata": {},
   "outputs": [],
   "source": [
    "s12.drop(columns=['Yielding duration, SAGES-2, hrs', 'Yielding duration, SAGES-1, hrs'], inplace=True)\n",
    "s34.drop(columns=['Yielding duration, SAGES-3, hrs', 'Yielding duration, SAGES-4, hrs'], inplace=True)"
   ]
  },
  {
   "cell_type": "code",
   "execution_count": 214,
   "metadata": {},
   "outputs": [
    {
     "data": {
      "text/plain": [
       "(39, 17)"
      ]
     },
     "execution_count": 214,
     "metadata": {},
     "output_type": "execute_result"
    }
   ],
   "source": [
    "s12.shape"
   ]
  },
  {
   "cell_type": "code",
   "execution_count": 215,
   "metadata": {},
   "outputs": [],
   "source": [
    "s12.columns= ['Level', 'Dip', 'Slice', 'Face m', 'Set date', 'Dip load', 'Rise load', 'Withdraw date', 'Withdrawal load dip', 'Withdrawal load rise', 'Conv dip mm', 'Conv rise mm', 'Slice extraction days', 'withdrawal time min', 'Roof exposure', 'Blasting holes', 'Block']\n",
    "s34.columns= ['Level', 'Dip', 'Slice', 'Face m', 'Set date', 'Dip load', 'Rise load', 'Withdraw date', 'Withdrawal load dip', 'Withdrawal load rise', 'Conv dip mm', 'Conv rise mm', 'Slice extraction days', 'withdrawal time min', 'Roof exposure', 'Blasting holes', 'Block']"
   ]
  },
  {
   "cell_type": "code",
   "execution_count": 217,
   "metadata": {},
   "outputs": [],
   "source": [
    "s12['SAGES'] = 1\n",
    "s34['SAGES'] = -1"
   ]
  },
  {
   "cell_type": "code",
   "execution_count": 218,
   "metadata": {},
   "outputs": [
    {
     "data": {
      "text/html": [
       "<div>\n",
       "<style scoped>\n",
       "    .dataframe tbody tr th:only-of-type {\n",
       "        vertical-align: middle;\n",
       "    }\n",
       "\n",
       "    .dataframe tbody tr th {\n",
       "        vertical-align: top;\n",
       "    }\n",
       "\n",
       "    .dataframe thead th {\n",
       "        text-align: right;\n",
       "    }\n",
       "</style>\n",
       "<table border=\"1\" class=\"dataframe\">\n",
       "  <thead>\n",
       "    <tr style=\"text-align: right;\">\n",
       "      <th></th>\n",
       "      <th>Level</th>\n",
       "      <th>Dip</th>\n",
       "      <th>Slice</th>\n",
       "      <th>Face m</th>\n",
       "      <th>Set date</th>\n",
       "      <th>Dip load</th>\n",
       "      <th>Rise load</th>\n",
       "      <th>Withdraw date</th>\n",
       "      <th>Withdrawal load dip</th>\n",
       "      <th>Withdrawal load rise</th>\n",
       "      <th>Conv dip mm</th>\n",
       "      <th>Conv rise mm</th>\n",
       "      <th>Slice extraction days</th>\n",
       "      <th>withdrawal time min</th>\n",
       "      <th>Roof exposure</th>\n",
       "      <th>Blasting holes</th>\n",
       "      <th>Block</th>\n",
       "      <th>SAGES</th>\n",
       "    </tr>\n",
       "  </thead>\n",
       "  <tbody>\n",
       "    <tr>\n",
       "      <th>0</th>\n",
       "      <td>31</td>\n",
       "      <td>9</td>\n",
       "      <td>47</td>\n",
       "      <td>333</td>\n",
       "      <td>2017-01-08</td>\n",
       "      <td>128</td>\n",
       "      <td>118</td>\n",
       "      <td>2017-08-05</td>\n",
       "      <td>169</td>\n",
       "      <td>117</td>\n",
       "      <td>5</td>\n",
       "      <td>2</td>\n",
       "      <td>4</td>\n",
       "      <td>6</td>\n",
       "      <td>100</td>\n",
       "      <td>0</td>\n",
       "      <td>-1</td>\n",
       "      <td>1</td>\n",
       "    </tr>\n",
       "    <tr>\n",
       "      <th>1</th>\n",
       "      <td>31</td>\n",
       "      <td>9</td>\n",
       "      <td>48</td>\n",
       "      <td>339</td>\n",
       "      <td>2017-05-08</td>\n",
       "      <td>132</td>\n",
       "      <td>104</td>\n",
       "      <td>2017-08-09</td>\n",
       "      <td>169</td>\n",
       "      <td>154</td>\n",
       "      <td>23</td>\n",
       "      <td>11</td>\n",
       "      <td>4</td>\n",
       "      <td>3</td>\n",
       "      <td>200</td>\n",
       "      <td>0</td>\n",
       "      <td>-1</td>\n",
       "      <td>1</td>\n",
       "    </tr>\n",
       "    <tr>\n",
       "      <th>2</th>\n",
       "      <td>31</td>\n",
       "      <td>9</td>\n",
       "      <td>49</td>\n",
       "      <td>345</td>\n",
       "      <td>2017-09-08</td>\n",
       "      <td>140</td>\n",
       "      <td>95</td>\n",
       "      <td>2017-08-19</td>\n",
       "      <td>158</td>\n",
       "      <td>114</td>\n",
       "      <td>2</td>\n",
       "      <td>5</td>\n",
       "      <td>10</td>\n",
       "      <td>55</td>\n",
       "      <td>300</td>\n",
       "      <td>0</td>\n",
       "      <td>-1</td>\n",
       "      <td>1</td>\n",
       "    </tr>\n",
       "    <tr>\n",
       "      <th>3</th>\n",
       "      <td>31</td>\n",
       "      <td>9</td>\n",
       "      <td>50</td>\n",
       "      <td>351</td>\n",
       "      <td>2017-08-19</td>\n",
       "      <td>110</td>\n",
       "      <td>88</td>\n",
       "      <td>2017-08-25</td>\n",
       "      <td>175</td>\n",
       "      <td>133</td>\n",
       "      <td>14</td>\n",
       "      <td>3</td>\n",
       "      <td>6</td>\n",
       "      <td>22</td>\n",
       "      <td>400</td>\n",
       "      <td>0</td>\n",
       "      <td>-1</td>\n",
       "      <td>1</td>\n",
       "    </tr>\n",
       "    <tr>\n",
       "      <th>4</th>\n",
       "      <td>31</td>\n",
       "      <td>9</td>\n",
       "      <td>51</td>\n",
       "      <td>357</td>\n",
       "      <td>2017-08-25</td>\n",
       "      <td>140</td>\n",
       "      <td>90</td>\n",
       "      <td>2017-08-30</td>\n",
       "      <td>141</td>\n",
       "      <td>142</td>\n",
       "      <td>1</td>\n",
       "      <td>6</td>\n",
       "      <td>6</td>\n",
       "      <td>16</td>\n",
       "      <td>500</td>\n",
       "      <td>0</td>\n",
       "      <td>-1</td>\n",
       "      <td>1</td>\n",
       "    </tr>\n",
       "  </tbody>\n",
       "</table>\n",
       "</div>"
      ],
      "text/plain": [
       "   Level  Dip  Slice  Face m   Set date  Dip load  Rise load Withdraw date  \\\n",
       "0     31    9     47     333 2017-01-08       128        118    2017-08-05   \n",
       "1     31    9     48     339 2017-05-08       132        104    2017-08-09   \n",
       "2     31    9     49     345 2017-09-08       140         95    2017-08-19   \n",
       "3     31    9     50     351 2017-08-19       110         88    2017-08-25   \n",
       "4     31    9     51     357 2017-08-25       140         90    2017-08-30   \n",
       "\n",
       "   Withdrawal load dip  Withdrawal load rise  Conv dip mm  Conv rise mm  \\\n",
       "0                  169                   117            5             2   \n",
       "1                  169                   154           23            11   \n",
       "2                  158                   114            2             5   \n",
       "3                  175                   133           14             3   \n",
       "4                  141                   142            1             6   \n",
       "\n",
       "   Slice extraction days  withdrawal time min  Roof exposure  Blasting holes  \\\n",
       "0                      4                    6            100               0   \n",
       "1                      4                    3            200               0   \n",
       "2                     10                   55            300               0   \n",
       "3                      6                   22            400               0   \n",
       "4                      6                   16            500               0   \n",
       "\n",
       "   Block  SAGES  \n",
       "0     -1      1  \n",
       "1     -1      1  \n",
       "2     -1      1  \n",
       "3     -1      1  \n",
       "4     -1      1  "
      ]
     },
     "execution_count": 218,
     "metadata": {},
     "output_type": "execute_result"
    }
   ],
   "source": [
    "s12.head()"
   ]
  },
  {
   "cell_type": "code",
   "execution_count": 223,
   "metadata": {},
   "outputs": [],
   "source": [
    "sages = pd.concat([s12, s34], axis=0)"
   ]
  },
  {
   "cell_type": "code",
   "execution_count": 224,
   "metadata": {},
   "outputs": [
    {
     "data": {
      "text/plain": [
       "(62, 18)"
      ]
     },
     "execution_count": 224,
     "metadata": {},
     "output_type": "execute_result"
    }
   ],
   "source": [
    "sages.shape"
   ]
  },
  {
   "cell_type": "code",
   "execution_count": 225,
   "metadata": {},
   "outputs": [
    {
     "data": {
      "text/html": [
       "<div>\n",
       "<style scoped>\n",
       "    .dataframe tbody tr th:only-of-type {\n",
       "        vertical-align: middle;\n",
       "    }\n",
       "\n",
       "    .dataframe tbody tr th {\n",
       "        vertical-align: top;\n",
       "    }\n",
       "\n",
       "    .dataframe thead th {\n",
       "        text-align: right;\n",
       "    }\n",
       "</style>\n",
       "<table border=\"1\" class=\"dataframe\">\n",
       "  <thead>\n",
       "    <tr style=\"text-align: right;\">\n",
       "      <th></th>\n",
       "      <th>Level</th>\n",
       "      <th>Dip</th>\n",
       "      <th>Slice</th>\n",
       "      <th>Face m</th>\n",
       "      <th>Set date</th>\n",
       "      <th>Dip load</th>\n",
       "      <th>Rise load</th>\n",
       "      <th>Withdraw date</th>\n",
       "      <th>Withdrawal load dip</th>\n",
       "      <th>Withdrawal load rise</th>\n",
       "      <th>Conv dip mm</th>\n",
       "      <th>Conv rise mm</th>\n",
       "      <th>Slice extraction days</th>\n",
       "      <th>withdrawal time min</th>\n",
       "      <th>Roof exposure</th>\n",
       "      <th>Blasting holes</th>\n",
       "      <th>Block</th>\n",
       "      <th>SAGES</th>\n",
       "    </tr>\n",
       "  </thead>\n",
       "  <tbody>\n",
       "    <tr>\n",
       "      <th>0</th>\n",
       "      <td>31</td>\n",
       "      <td>9</td>\n",
       "      <td>47</td>\n",
       "      <td>333</td>\n",
       "      <td>2017-01-08</td>\n",
       "      <td>128</td>\n",
       "      <td>118</td>\n",
       "      <td>2017-08-05</td>\n",
       "      <td>169</td>\n",
       "      <td>117</td>\n",
       "      <td>5</td>\n",
       "      <td>2</td>\n",
       "      <td>4</td>\n",
       "      <td>6</td>\n",
       "      <td>100</td>\n",
       "      <td>0</td>\n",
       "      <td>-1</td>\n",
       "      <td>1</td>\n",
       "    </tr>\n",
       "    <tr>\n",
       "      <th>1</th>\n",
       "      <td>31</td>\n",
       "      <td>9</td>\n",
       "      <td>48</td>\n",
       "      <td>339</td>\n",
       "      <td>2017-05-08</td>\n",
       "      <td>132</td>\n",
       "      <td>104</td>\n",
       "      <td>2017-08-09</td>\n",
       "      <td>169</td>\n",
       "      <td>154</td>\n",
       "      <td>23</td>\n",
       "      <td>11</td>\n",
       "      <td>4</td>\n",
       "      <td>3</td>\n",
       "      <td>200</td>\n",
       "      <td>0</td>\n",
       "      <td>-1</td>\n",
       "      <td>1</td>\n",
       "    </tr>\n",
       "    <tr>\n",
       "      <th>2</th>\n",
       "      <td>31</td>\n",
       "      <td>9</td>\n",
       "      <td>49</td>\n",
       "      <td>345</td>\n",
       "      <td>2017-09-08</td>\n",
       "      <td>140</td>\n",
       "      <td>95</td>\n",
       "      <td>2017-08-19</td>\n",
       "      <td>158</td>\n",
       "      <td>114</td>\n",
       "      <td>2</td>\n",
       "      <td>5</td>\n",
       "      <td>10</td>\n",
       "      <td>55</td>\n",
       "      <td>300</td>\n",
       "      <td>0</td>\n",
       "      <td>-1</td>\n",
       "      <td>1</td>\n",
       "    </tr>\n",
       "    <tr>\n",
       "      <th>3</th>\n",
       "      <td>31</td>\n",
       "      <td>9</td>\n",
       "      <td>50</td>\n",
       "      <td>351</td>\n",
       "      <td>2017-08-19</td>\n",
       "      <td>110</td>\n",
       "      <td>88</td>\n",
       "      <td>2017-08-25</td>\n",
       "      <td>175</td>\n",
       "      <td>133</td>\n",
       "      <td>14</td>\n",
       "      <td>3</td>\n",
       "      <td>6</td>\n",
       "      <td>22</td>\n",
       "      <td>400</td>\n",
       "      <td>0</td>\n",
       "      <td>-1</td>\n",
       "      <td>1</td>\n",
       "    </tr>\n",
       "    <tr>\n",
       "      <th>4</th>\n",
       "      <td>31</td>\n",
       "      <td>9</td>\n",
       "      <td>51</td>\n",
       "      <td>357</td>\n",
       "      <td>2017-08-25</td>\n",
       "      <td>140</td>\n",
       "      <td>90</td>\n",
       "      <td>2017-08-30</td>\n",
       "      <td>141</td>\n",
       "      <td>142</td>\n",
       "      <td>1</td>\n",
       "      <td>6</td>\n",
       "      <td>6</td>\n",
       "      <td>16</td>\n",
       "      <td>500</td>\n",
       "      <td>0</td>\n",
       "      <td>-1</td>\n",
       "      <td>1</td>\n",
       "    </tr>\n",
       "  </tbody>\n",
       "</table>\n",
       "</div>"
      ],
      "text/plain": [
       "   Level  Dip  Slice  Face m   Set date  Dip load  Rise load Withdraw date  \\\n",
       "0     31    9     47     333 2017-01-08       128        118    2017-08-05   \n",
       "1     31    9     48     339 2017-05-08       132        104    2017-08-09   \n",
       "2     31    9     49     345 2017-09-08       140         95    2017-08-19   \n",
       "3     31    9     50     351 2017-08-19       110         88    2017-08-25   \n",
       "4     31    9     51     357 2017-08-25       140         90    2017-08-30   \n",
       "\n",
       "   Withdrawal load dip  Withdrawal load rise  Conv dip mm  Conv rise mm  \\\n",
       "0                  169                   117            5             2   \n",
       "1                  169                   154           23            11   \n",
       "2                  158                   114            2             5   \n",
       "3                  175                   133           14             3   \n",
       "4                  141                   142            1             6   \n",
       "\n",
       "   Slice extraction days  withdrawal time min  Roof exposure  Blasting holes  \\\n",
       "0                      4                    6            100               0   \n",
       "1                      4                    3            200               0   \n",
       "2                     10                   55            300               0   \n",
       "3                      6                   22            400               0   \n",
       "4                      6                   16            500               0   \n",
       "\n",
       "   Block  SAGES  \n",
       "0     -1      1  \n",
       "1     -1      1  \n",
       "2     -1      1  \n",
       "3     -1      1  \n",
       "4     -1      1  "
      ]
     },
     "execution_count": 225,
     "metadata": {},
     "output_type": "execute_result"
    }
   ],
   "source": [
    "sages.head()"
   ]
  },
  {
   "cell_type": "code",
   "execution_count": 226,
   "metadata": {},
   "outputs": [],
   "source": [
    "sages.to_csv(r'C:\\Users\\LENOVO\\Desktop\\sages.csv', index=None)\n",
    "s12.to_csv(r'C:\\Users\\LENOVO\\Desktop\\SAGES12_pre.csv', index=None)\n",
    "s34.to_csv(r'C:\\Users\\LENOVO\\Desktop\\SAGES34_pre.csv', index=None)"
   ]
  },
  {
   "cell_type": "code",
   "execution_count": 227,
   "metadata": {},
   "outputs": [
    {
     "data": {
      "text/plain": [
       "Index(['Level', 'Dip', 'Slice', 'Face m', 'Set date', 'Dip load', 'Rise load',\n",
       "       'Withdraw date', 'Withdrawal load dip', 'Withdrawal load rise',\n",
       "       'Conv dip mm', 'Conv rise mm', 'Slice extraction days',\n",
       "       'withdrawal time min', 'Roof exposure', 'Blasting holes', 'Block',\n",
       "       'SAGES'],\n",
       "      dtype='object')"
      ]
     },
     "execution_count": 227,
     "metadata": {},
     "output_type": "execute_result"
    }
   ],
   "source": [
    "sages.columns"
   ]
  },
  {
   "cell_type": "code",
   "execution_count": 14,
   "metadata": {},
   "outputs": [],
   "source": [
    "sages = pd.read_csv(r'C:\\Users\\LENOVO\\Desktop\\sages.csv')"
   ]
  },
  {
   "cell_type": "code",
   "execution_count": 15,
   "metadata": {},
   "outputs": [
    {
     "name": "stdout",
     "output_type": "stream",
     "text": [
      "0.0\n",
      "24.309397216954306\n"
     ]
    }
   ],
   "source": [
    "from sklearn.linear_model import LinearRegression\n",
    "from sklearn.metrics import r2_score, mean_squared_error\n",
    "from sklearn.model_selection import train_test_split\n",
    "from sklearn.neighbors import KNeighborsRegressor, RadiusNeighborsRegressor, RadiusNeighborsTransformer\n",
    "\n",
    "\n",
    "target = ['Withdrawal load dip', 'Withdrawal load rise', 'Conv dip mm', 'Conv rise mm']\n",
    "X = sages.drop(['Set date', 'Withdraw date','Withdrawal load dip', 'Withdrawal load rise', 'Conv dip mm', 'Conv rise mm'], axis=1)\n",
    "y = sages[target]\n",
    "X_train, X_test, y_train, y_test = train_test_split(X, y, test_size=0.25, random_state=42)\n",
    "scale = MinMaxScaler()\n",
    "X_train = scale.fit_transform(X_train)\n",
    "X_test = scale.transform(X_test)\n",
    "lr = RadiusNeighborsTransformer(algorithm='auto', mode='distance', radius=2)\n",
    "X_train = lr.fit_transform(X_train)\n",
    "X_test = lr.transform(X_test)\n",
    "lr=KNeighborsRegressor(n_neighbors=9, weights='distance', p=2, leaf_size=50)\n",
    "lr.fit(X_train, y_train)\n",
    "print(np.sqrt(mean_squared_error(y_train, lr.predict(X_train))))\n",
    "print(np.sqrt(mean_squared_error(y_test, lr.predict(X_test))))"
   ]
  },
  {
   "cell_type": "code",
   "execution_count": 17,
   "metadata": {},
   "outputs": [
    {
     "name": "stdout",
     "output_type": "stream",
     "text": [
      "0.0\n",
      "34.30275389681048\n"
     ]
    }
   ],
   "source": [
    "target = ['Withdrawal load dip']\n",
    "X = sages.drop(['Set date', 'Withdraw date','Withdrawal load dip', 'Withdrawal load rise', 'Conv dip mm', 'Conv rise mm'], axis=1)\n",
    "y = sages[target]\n",
    "X_train, X_test, y_train, y_test = train_test_split(X, y, test_size=0.25, random_state=42)\n",
    "scale = MinMaxScaler()\n",
    "X_train = scale.fit_transform(X_train)\n",
    "X_test = scale.transform(X_test)\n",
    "lr=KNeighborsRegressor(n_neighbors=9, weights='distance', p=2, leaf_size=50)\n",
    "lr.fit(X_train, y_train)\n",
    "print(np.sqrt(mean_squared_error(y_train, lr.predict(X_train))))\n",
    "print(np.sqrt(mean_squared_error(y_test, lr.predict(X_test))))"
   ]
  },
  {
   "cell_type": "code",
   "execution_count": 11,
   "metadata": {},
   "outputs": [],
   "source": [
    "from sklearn.linear_model import LinearRegression\n",
    "from sklearn.metrics import r2_score, mean_squared_error\n",
    "from sklearn.model_selection import train_test_split\n",
    "from sklearn.neighbors import KNeighborsRegressor, RadiusNeighborsRegressor, RadiusNeighborsTransformer"
   ]
  },
  {
   "cell_type": "code",
   "execution_count": 370,
   "metadata": {},
   "outputs": [
    {
     "name": "stdout",
     "output_type": "stream",
     "text": [
      "1.0\n",
      "-0.14840075601809727\n"
     ]
    }
   ],
   "source": [
    "print(r2_score(y_train, lr.predict(X_train)))\n",
    "print(r2_score(y_test, lr.predict(X_test)))"
   ]
  },
  {
   "cell_type": "code",
   "execution_count": 296,
   "metadata": {},
   "outputs": [
    {
     "name": "stdout",
     "output_type": "stream",
     "text": [
      "Help on class RadiusNeighborsTransformer in module sklearn.neighbors._graph:\n",
      "\n",
      "class RadiusNeighborsTransformer(sklearn.neighbors._base.RadiusNeighborsMixin, sklearn.neighbors._base.UnsupervisedMixin, sklearn.base.TransformerMixin, sklearn.neighbors._base.NeighborsBase)\n",
      " |  RadiusNeighborsTransformer(*, mode='distance', radius=1.0, algorithm='auto', leaf_size=30, metric='minkowski', p=2, metric_params=None, n_jobs=1)\n",
      " |  \n",
      " |  Transform X into a (weighted) graph of neighbors nearer than a radius\n",
      " |  \n",
      " |  The transformed data is a sparse graph as returned by\n",
      " |  radius_neighbors_graph.\n",
      " |  \n",
      " |  Read more in the :ref:`User Guide <neighbors_transformer>`.\n",
      " |  \n",
      " |  .. versionadded:: 0.22\n",
      " |  \n",
      " |  Parameters\n",
      " |  ----------\n",
      " |  mode : {'distance', 'connectivity'}, default='distance'\n",
      " |      Type of returned matrix: 'connectivity' will return the connectivity\n",
      " |      matrix with ones and zeros, and 'distance' will return the distances\n",
      " |      between neighbors according to the given metric.\n",
      " |  \n",
      " |  radius : float, default=1.\n",
      " |      Radius of neighborhood in the transformed sparse graph.\n",
      " |  \n",
      " |  algorithm : {'auto', 'ball_tree', 'kd_tree', 'brute'}, default='auto'\n",
      " |      Algorithm used to compute the nearest neighbors:\n",
      " |  \n",
      " |      - 'ball_tree' will use :class:`BallTree`\n",
      " |      - 'kd_tree' will use :class:`KDTree`\n",
      " |      - 'brute' will use a brute-force search.\n",
      " |      - 'auto' will attempt to decide the most appropriate algorithm\n",
      " |        based on the values passed to :meth:`fit` method.\n",
      " |  \n",
      " |      Note: fitting on sparse input will override the setting of\n",
      " |      this parameter, using brute force.\n",
      " |  \n",
      " |  leaf_size : int, default=30\n",
      " |      Leaf size passed to BallTree or KDTree.  This can affect the\n",
      " |      speed of the construction and query, as well as the memory\n",
      " |      required to store the tree.  The optimal value depends on the\n",
      " |      nature of the problem.\n",
      " |  \n",
      " |  metric : str or callable, default='minkowski'\n",
      " |      metric to use for distance computation. Any metric from scikit-learn\n",
      " |      or scipy.spatial.distance can be used.\n",
      " |  \n",
      " |      If metric is a callable function, it is called on each\n",
      " |      pair of instances (rows) and the resulting value recorded. The callable\n",
      " |      should take two arrays as input and return one value indicating the\n",
      " |      distance between them. This works for Scipy's metrics, but is less\n",
      " |      efficient than passing the metric name as a string.\n",
      " |  \n",
      " |      Distance matrices are not supported.\n",
      " |  \n",
      " |      Valid values for metric are:\n",
      " |  \n",
      " |      - from scikit-learn: ['cityblock', 'cosine', 'euclidean', 'l1', 'l2',\n",
      " |        'manhattan']\n",
      " |  \n",
      " |      - from scipy.spatial.distance: ['braycurtis', 'canberra', 'chebyshev',\n",
      " |        'correlation', 'dice', 'hamming', 'jaccard', 'kulsinski',\n",
      " |        'mahalanobis', 'minkowski', 'rogerstanimoto', 'russellrao',\n",
      " |        'seuclidean', 'sokalmichener', 'sokalsneath', 'sqeuclidean',\n",
      " |        'yule']\n",
      " |  \n",
      " |      See the documentation for scipy.spatial.distance for details on these\n",
      " |      metrics.\n",
      " |  \n",
      " |  p : int, default=2\n",
      " |      Parameter for the Minkowski metric from\n",
      " |      sklearn.metrics.pairwise.pairwise_distances. When p = 1, this is\n",
      " |      equivalent to using manhattan_distance (l1), and euclidean_distance\n",
      " |      (l2) for p = 2. For arbitrary p, minkowski_distance (l_p) is used.\n",
      " |  \n",
      " |  metric_params : dict, default=None\n",
      " |      Additional keyword arguments for the metric function.\n",
      " |  \n",
      " |  n_jobs : int, default=1\n",
      " |      The number of parallel jobs to run for neighbors search.\n",
      " |      If ``-1``, then the number of jobs is set to the number of CPU cores.\n",
      " |  \n",
      " |  Examples\n",
      " |  --------\n",
      " |  >>> from sklearn.cluster import DBSCAN\n",
      " |  >>> from sklearn.neighbors import RadiusNeighborsTransformer\n",
      " |  >>> from sklearn.pipeline import make_pipeline\n",
      " |  >>> estimator = make_pipeline(\n",
      " |  ...     RadiusNeighborsTransformer(radius=42.0, mode='distance'),\n",
      " |  ...     DBSCAN(min_samples=30, metric='precomputed'))\n",
      " |  \n",
      " |  Method resolution order:\n",
      " |      RadiusNeighborsTransformer\n",
      " |      sklearn.neighbors._base.RadiusNeighborsMixin\n",
      " |      sklearn.neighbors._base.UnsupervisedMixin\n",
      " |      sklearn.base.TransformerMixin\n",
      " |      sklearn.neighbors._base.NeighborsBase\n",
      " |      sklearn.base.MultiOutputMixin\n",
      " |      sklearn.base.BaseEstimator\n",
      " |      builtins.object\n",
      " |  \n",
      " |  Methods defined here:\n",
      " |  \n",
      " |  __init__(self, *, mode='distance', radius=1.0, algorithm='auto', leaf_size=30, metric='minkowski', p=2, metric_params=None, n_jobs=1)\n",
      " |      Initialize self.  See help(type(self)) for accurate signature.\n",
      " |  \n",
      " |  fit_transform(self, X, y=None)\n",
      " |      Fit to data, then transform it.\n",
      " |      \n",
      " |      Fits transformer to X and y with optional parameters fit_params\n",
      " |      and returns a transformed version of X.\n",
      " |      \n",
      " |      Parameters\n",
      " |      ----------\n",
      " |      X : array-like of shape (n_samples, n_features)\n",
      " |          Training set.\n",
      " |      \n",
      " |      y : ignored\n",
      " |      \n",
      " |      Returns\n",
      " |      -------\n",
      " |      Xt : sparse matrix of shape (n_samples, n_samples)\n",
      " |          Xt[i, j] is assigned the weight of edge that connects i to j.\n",
      " |          Only the neighbors have an explicit value.\n",
      " |          The diagonal is always explicit.\n",
      " |          The matrix is of CSR format.\n",
      " |  \n",
      " |  transform(self, X)\n",
      " |      Computes the (weighted) graph of Neighbors for points in X\n",
      " |      \n",
      " |      Parameters\n",
      " |      ----------\n",
      " |      X : array-like of shape (n_samples_transform, n_features)\n",
      " |          Sample data\n",
      " |      \n",
      " |      Returns\n",
      " |      -------\n",
      " |      Xt : sparse matrix of shape (n_samples_transform, n_samples_fit)\n",
      " |          Xt[i, j] is assigned the weight of edge that connects i to j.\n",
      " |          Only the neighbors have an explicit value.\n",
      " |          The diagonal is always explicit.\n",
      " |          The matrix is of CSR format.\n",
      " |  \n",
      " |  ----------------------------------------------------------------------\n",
      " |  Data and other attributes defined here:\n",
      " |  \n",
      " |  __abstractmethods__ = frozenset()\n",
      " |  \n",
      " |  ----------------------------------------------------------------------\n",
      " |  Methods inherited from sklearn.neighbors._base.RadiusNeighborsMixin:\n",
      " |  \n",
      " |  radius_neighbors(self, X=None, radius=None, return_distance=True, sort_results=False)\n",
      " |      Finds the neighbors within a given radius of a point or points.\n",
      " |      \n",
      " |      Return the indices and distances of each point from the dataset\n",
      " |      lying in a ball with size ``radius`` around the points of the query\n",
      " |      array. Points lying on the boundary are included in the results.\n",
      " |      \n",
      " |      The result points are *not* necessarily sorted by distance to their\n",
      " |      query point.\n",
      " |      \n",
      " |      Parameters\n",
      " |      ----------\n",
      " |      X : array-like, (n_samples, n_features), optional\n",
      " |          The query point or points.\n",
      " |          If not provided, neighbors of each indexed point are returned.\n",
      " |          In this case, the query point is not considered its own neighbor.\n",
      " |      \n",
      " |      radius : float\n",
      " |          Limiting distance of neighbors to return.\n",
      " |          (default is the value passed to the constructor).\n",
      " |      \n",
      " |      return_distance : boolean, optional. Defaults to True.\n",
      " |          If False, distances will not be returned.\n",
      " |      \n",
      " |      sort_results : boolean, optional. Defaults to False.\n",
      " |          If True, the distances and indices will be sorted before being\n",
      " |          returned. If False, the results will not be sorted. If\n",
      " |          return_distance == False, setting sort_results = True will\n",
      " |          result in an error.\n",
      " |      \n",
      " |          .. versionadded:: 0.22\n",
      " |      \n",
      " |      Returns\n",
      " |      -------\n",
      " |      neigh_dist : array, shape (n_samples,) of arrays\n",
      " |          Array representing the distances to each point, only present if\n",
      " |          return_distance=True. The distance values are computed according\n",
      " |          to the ``metric`` constructor parameter.\n",
      " |      \n",
      " |      neigh_ind : array, shape (n_samples,) of arrays\n",
      " |          An array of arrays of indices of the approximate nearest points\n",
      " |          from the population matrix that lie within a ball of size\n",
      " |          ``radius`` around the query points.\n",
      " |      \n",
      " |      Examples\n",
      " |      --------\n",
      " |      In the following example, we construct a NeighborsClassifier\n",
      " |      class from an array representing our data set and ask who's\n",
      " |      the closest point to [1, 1, 1]:\n",
      " |      \n",
      " |      >>> import numpy as np\n",
      " |      >>> samples = [[0., 0., 0.], [0., .5, 0.], [1., 1., .5]]\n",
      " |      >>> from sklearn.neighbors import NearestNeighbors\n",
      " |      >>> neigh = NearestNeighbors(radius=1.6)\n",
      " |      >>> neigh.fit(samples)\n",
      " |      NearestNeighbors(radius=1.6)\n",
      " |      >>> rng = neigh.radius_neighbors([[1., 1., 1.]])\n",
      " |      >>> print(np.asarray(rng[0][0]))\n",
      " |      [1.5 0.5]\n",
      " |      >>> print(np.asarray(rng[1][0]))\n",
      " |      [1 2]\n",
      " |      \n",
      " |      The first array returned contains the distances to all points which\n",
      " |      are closer than 1.6, while the second array returned contains their\n",
      " |      indices.  In general, multiple points can be queried at the same time.\n",
      " |      \n",
      " |      Notes\n",
      " |      -----\n",
      " |      Because the number of neighbors of each point is not necessarily\n",
      " |      equal, the results for multiple query points cannot be fit in a\n",
      " |      standard data array.\n",
      " |      For efficiency, `radius_neighbors` returns arrays of objects, where\n",
      " |      each object is a 1D array of indices or distances.\n",
      " |  \n",
      " |  radius_neighbors_graph(self, X=None, radius=None, mode='connectivity', sort_results=False)\n",
      " |      Computes the (weighted) graph of Neighbors for points in X\n",
      " |      \n",
      " |      Neighborhoods are restricted the points at a distance lower than\n",
      " |      radius.\n",
      " |      \n",
      " |      Parameters\n",
      " |      ----------\n",
      " |      X : array-like of shape (n_samples, n_features), default=None\n",
      " |          The query point or points.\n",
      " |          If not provided, neighbors of each indexed point are returned.\n",
      " |          In this case, the query point is not considered its own neighbor.\n",
      " |      \n",
      " |      radius : float\n",
      " |          Radius of neighborhoods.\n",
      " |          (default is the value passed to the constructor).\n",
      " |      \n",
      " |      mode : {'connectivity', 'distance'}, optional\n",
      " |          Type of returned matrix: 'connectivity' will return the\n",
      " |          connectivity matrix with ones and zeros, in 'distance' the\n",
      " |          edges are Euclidean distance between points.\n",
      " |      \n",
      " |      sort_results : boolean, optional. Defaults to False.\n",
      " |          If True, the distances and indices will be sorted before being\n",
      " |          returned. If False, the results will not be sorted.\n",
      " |          Only used with mode='distance'.\n",
      " |      \n",
      " |          .. versionadded:: 0.22\n",
      " |      \n",
      " |      Returns\n",
      " |      -------\n",
      " |      A : sparse graph in CSR format, shape = [n_queries, n_samples_fit]\n",
      " |          n_samples_fit is the number of samples in the fitted data\n",
      " |          A[i, j] is assigned the weight of edge that connects i to j.\n",
      " |      \n",
      " |      Examples\n",
      " |      --------\n",
      " |      >>> X = [[0], [3], [1]]\n",
      " |      >>> from sklearn.neighbors import NearestNeighbors\n",
      " |      >>> neigh = NearestNeighbors(radius=1.5)\n",
      " |      >>> neigh.fit(X)\n",
      " |      NearestNeighbors(radius=1.5)\n",
      " |      >>> A = neigh.radius_neighbors_graph(X)\n",
      " |      >>> A.toarray()\n",
      " |      array([[1., 0., 1.],\n",
      " |             [0., 1., 0.],\n",
      " |             [1., 0., 1.]])\n",
      " |      \n",
      " |      See also\n",
      " |      --------\n",
      " |      kneighbors_graph\n",
      " |  \n",
      " |  ----------------------------------------------------------------------\n",
      " |  Data descriptors inherited from sklearn.neighbors._base.RadiusNeighborsMixin:\n",
      " |  \n",
      " |  __dict__\n",
      " |      dictionary for instance variables (if defined)\n",
      " |  \n",
      " |  __weakref__\n",
      " |      list of weak references to the object (if defined)\n",
      " |  \n",
      " |  ----------------------------------------------------------------------\n",
      " |  Methods inherited from sklearn.neighbors._base.UnsupervisedMixin:\n",
      " |  \n",
      " |  fit(self, X, y=None)\n",
      " |      Fit the model using X as training data\n",
      " |      \n",
      " |      Parameters\n",
      " |      ----------\n",
      " |      X : {array-like, sparse matrix, BallTree, KDTree}\n",
      " |          Training data. If array or matrix, shape [n_samples, n_features],\n",
      " |          or [n_samples, n_samples] if metric='precomputed'.\n",
      " |  \n",
      " |  ----------------------------------------------------------------------\n",
      " |  Methods inherited from sklearn.base.BaseEstimator:\n",
      " |  \n",
      " |  __getstate__(self)\n",
      " |  \n",
      " |  __repr__(self, N_CHAR_MAX=700)\n",
      " |      Return repr(self).\n",
      " |  \n",
      " |  __setstate__(self, state)\n",
      " |  \n",
      " |  get_params(self, deep=True)\n",
      " |      Get parameters for this estimator.\n",
      " |      \n",
      " |      Parameters\n",
      " |      ----------\n",
      " |      deep : bool, default=True\n",
      " |          If True, will return the parameters for this estimator and\n",
      " |          contained subobjects that are estimators.\n",
      " |      \n",
      " |      Returns\n",
      " |      -------\n",
      " |      params : mapping of string to any\n",
      " |          Parameter names mapped to their values.\n",
      " |  \n",
      " |  set_params(self, **params)\n",
      " |      Set the parameters of this estimator.\n",
      " |      \n",
      " |      The method works on simple estimators as well as on nested objects\n",
      " |      (such as pipelines). The latter have parameters of the form\n",
      " |      ``<component>__<parameter>`` so that it's possible to update each\n",
      " |      component of a nested object.\n",
      " |      \n",
      " |      Parameters\n",
      " |      ----------\n",
      " |      **params : dict\n",
      " |          Estimator parameters.\n",
      " |      \n",
      " |      Returns\n",
      " |      -------\n",
      " |      self : object\n",
      " |          Estimator instance.\n",
      "\n"
     ]
    }
   ],
   "source": [
    "help(RadiusNeighborsTransformer)"
   ]
  },
  {
   "cell_type": "code",
   "execution_count": 530,
   "metadata": {},
   "outputs": [
    {
     "name": "stdout",
     "output_type": "stream",
     "text": [
      "11.877415566391901\n",
      "22.291407059755194\n"
     ]
    }
   ],
   "source": [
    "from sklearn.ensemble import RandomForestRegressor\n",
    "lr=RandomForestRegressor(n_estimators=9, max_depth=20)\n",
    "lr.fit(X_train, y_train)\n",
    "print(np.sqrt(mean_squared_error(y_train, lr.predict(X_train))))\n",
    "print(np.sqrt(mean_squared_error(y_test, lr.predict(X_test))))"
   ]
  },
  {
   "cell_type": "code",
   "execution_count": 531,
   "metadata": {},
   "outputs": [
    {
     "name": "stdout",
     "output_type": "stream",
     "text": [
      "0.7731762718813631\n",
      "-0.012553454735330288\n"
     ]
    }
   ],
   "source": [
    "print(r2_score(y_train, lr.predict(X_train)))\n",
    "print(r2_score(y_test, lr.predict(X_test)))"
   ]
  },
  {
   "cell_type": "code",
   "execution_count": 422,
   "metadata": {},
   "outputs": [],
   "source": [
    "from lightgbm import LGBMRegressor"
   ]
  },
  {
   "cell_type": "code",
   "execution_count": 460,
   "metadata": {},
   "outputs": [
    {
     "name": "stdout",
     "output_type": "stream",
     "text": [
      "[LightGBM] [Warning] Accuracy may be bad since you didn't explicitly set num_leaves OR 2^max_depth > num_leaves. (num_leaves=31).\n",
      "27.446365920926837\n",
      "33.97669627182957\n",
      "0.42537268915745285\n",
      "-0.06943352183456142\n"
     ]
    }
   ],
   "source": [
    "lgb = LGBMRegressor(learning_rate=0.12, n_estimators=115, max_depth=25)\n",
    "lgb.fit(X_train, y_train.iloc[:, 0])\n",
    "print(np.sqrt(mean_squared_error(y_train.iloc[:, 0], lgb.predict(X_train))))\n",
    "print(np.sqrt(mean_squared_error(y_test.iloc[:, 0], lgb.predict(X_test))))\n",
    "print(r2_score(y_train.iloc[:, 0], lgb.predict(X_train)))\n",
    "print(r2_score(y_test.iloc[:, 0], lgb.predict(X_test)))"
   ]
  },
  {
   "cell_type": "code",
   "execution_count": 532,
   "metadata": {},
   "outputs": [
    {
     "name": "stderr",
     "output_type": "stream",
     "text": [
      "ERROR: Could not find a version that satisfies the requirement autosklearn (from versions: none)\n",
      "ERROR: No matching distribution found for autosklearn\n"
     ]
    }
   ],
   "source": [
    "!pip install autosklearn"
   ]
  },
  {
   "cell_type": "code",
   "execution_count": 534,
   "metadata": {},
   "outputs": [
    {
     "name": "stdout",
     "output_type": "stream",
     "text": [
      "Collecting h2o\n",
      "  Downloading h2o-3.32.1.3.tar.gz (164.8 MB)\n",
      "Requirement already satisfied: requests in c:\\users\\lenovo\\anaconda3-new\\lib\\site-packages (from h2o) (2.24.0)\n",
      "Collecting tabulate\n",
      "  Downloading tabulate-0.8.9-py3-none-any.whl (25 kB)\n",
      "Requirement already satisfied: future in c:\\users\\lenovo\\anaconda3-new\\lib\\site-packages (from h2o) (0.18.2)\n",
      "Requirement already satisfied: colorama>=0.3.8 in c:\\users\\lenovo\\anaconda3-new\\lib\\site-packages (from h2o) (0.4.4)\n",
      "Requirement already satisfied: chardet<4,>=3.0.2 in c:\\users\\lenovo\\anaconda3-new\\lib\\site-packages (from requests->h2o) (3.0.4)\n",
      "Requirement already satisfied: idna<3,>=2.5 in c:\\users\\lenovo\\anaconda3-new\\lib\\site-packages (from requests->h2o) (2.10)\n",
      "Requirement already satisfied: certifi>=2017.4.17 in c:\\users\\lenovo\\anaconda3-new\\lib\\site-packages (from requests->h2o) (2020.6.20)\n",
      "Requirement already satisfied: urllib3!=1.25.0,!=1.25.1,<1.26,>=1.21.1 in c:\\users\\lenovo\\anaconda3-new\\lib\\site-packages (from requests->h2o) (1.25.10)\n",
      "Building wheels for collected packages: h2o\n",
      "  Building wheel for h2o (setup.py): started\n",
      "  Building wheel for h2o (setup.py): finished with status 'done'\n",
      "  Created wheel for h2o: filename=h2o-3.32.1.3-py2.py3-none-any.whl size=164854348 sha256=33a8b330dc94e314b542cc04c4086051a01fa6a074848497d60f598e38d15fca\n",
      "  Stored in directory: c:\\users\\lenovo\\appdata\\local\\pip\\cache\\wheels\\94\\de\\98\\a3badf41ac2c2b02dc1a21c9b8f8d435b5eb68a52f9df8d3c1\n",
      "Successfully built h2o\n",
      "Installing collected packages: tabulate, h2o\n",
      "Successfully installed h2o-3.32.1.3 tabulate-0.8.9\n"
     ]
    }
   ],
   "source": [
    "!pip install h2o"
   ]
  },
  {
   "cell_type": "code",
   "execution_count": 3,
   "metadata": {},
   "outputs": [],
   "source": [
    "import h2o\n",
    "from h2o.automl import H2OAutoML"
   ]
  },
  {
   "cell_type": "code",
   "execution_count": 4,
   "metadata": {},
   "outputs": [
    {
     "name": "stdout",
     "output_type": "stream",
     "text": [
      "Checking whether there is an H2O instance running at http://localhost:54321 . connected.\n"
     ]
    },
    {
     "data": {
      "text/html": [
       "<div style=\"overflow:auto\"><table style=\"width:50%\"><tr><td>H2O_cluster_uptime:</td>\n",
       "<td>27 mins 34 secs</td></tr>\n",
       "<tr><td>H2O_cluster_timezone:</td>\n",
       "<td>Asia/Kolkata</td></tr>\n",
       "<tr><td>H2O_data_parsing_timezone:</td>\n",
       "<td>UTC</td></tr>\n",
       "<tr><td>H2O_cluster_version:</td>\n",
       "<td>3.32.1.3</td></tr>\n",
       "<tr><td>H2O_cluster_version_age:</td>\n",
       "<td>22 days </td></tr>\n",
       "<tr><td>H2O_cluster_name:</td>\n",
       "<td>H2O_from_python_LENOVO_vbnm37</td></tr>\n",
       "<tr><td>H2O_cluster_total_nodes:</td>\n",
       "<td>1</td></tr>\n",
       "<tr><td>H2O_cluster_free_memory:</td>\n",
       "<td>10.50 Gb</td></tr>\n",
       "<tr><td>H2O_cluster_total_cores:</td>\n",
       "<td>8</td></tr>\n",
       "<tr><td>H2O_cluster_allowed_cores:</td>\n",
       "<td>8</td></tr>\n",
       "<tr><td>H2O_cluster_status:</td>\n",
       "<td>locked, healthy</td></tr>\n",
       "<tr><td>H2O_connection_url:</td>\n",
       "<td>http://localhost:54321</td></tr>\n",
       "<tr><td>H2O_connection_proxy:</td>\n",
       "<td>{\"http\": null, \"https\": null}</td></tr>\n",
       "<tr><td>H2O_internal_security:</td>\n",
       "<td>False</td></tr>\n",
       "<tr><td>H2O_API_Extensions:</td>\n",
       "<td>Amazon S3, Algos, AutoML, Core V3, TargetEncoder, Core V4</td></tr>\n",
       "<tr><td>Python_version:</td>\n",
       "<td>3.8.5 final</td></tr></table></div>"
      ],
      "text/plain": [
       "--------------------------  ---------------------------------------------------------\n",
       "H2O_cluster_uptime:         27 mins 34 secs\n",
       "H2O_cluster_timezone:       Asia/Kolkata\n",
       "H2O_data_parsing_timezone:  UTC\n",
       "H2O_cluster_version:        3.32.1.3\n",
       "H2O_cluster_version_age:    22 days\n",
       "H2O_cluster_name:           H2O_from_python_LENOVO_vbnm37\n",
       "H2O_cluster_total_nodes:    1\n",
       "H2O_cluster_free_memory:    10.50 Gb\n",
       "H2O_cluster_total_cores:    8\n",
       "H2O_cluster_allowed_cores:  8\n",
       "H2O_cluster_status:         locked, healthy\n",
       "H2O_connection_url:         http://localhost:54321\n",
       "H2O_connection_proxy:       {\"http\": null, \"https\": null}\n",
       "H2O_internal_security:      False\n",
       "H2O_API_Extensions:         Amazon S3, Algos, AutoML, Core V3, TargetEncoder, Core V4\n",
       "Python_version:             3.8.5 final\n",
       "--------------------------  ---------------------------------------------------------"
      ]
     },
     "metadata": {},
     "output_type": "display_data"
    }
   ],
   "source": [
    "h2o.init(\n",
    "    nthreads=-1,     # number of threads when launching a new H2O server\n",
    "    max_mem_size=12  # in gigabytes\n",
    ")"
   ]
  },
  {
   "cell_type": "code",
   "execution_count": 5,
   "metadata": {},
   "outputs": [
    {
     "name": "stdout",
     "output_type": "stream",
     "text": [
      "Parse progress: |█████████████████████████████████████████████████████████| 100%\n"
     ]
    }
   ],
   "source": [
    "train = h2o.import_file(r'C:\\Users\\LENOVO\\Desktop\\sages.csv')"
   ]
  },
  {
   "cell_type": "code",
   "execution_count": 6,
   "metadata": {},
   "outputs": [],
   "source": [
    "target = 'Conv rise mm'"
   ]
  },
  {
   "cell_type": "code",
   "execution_count": 8,
   "metadata": {},
   "outputs": [],
   "source": [
    "X = train.drop(['Set date', 'Withdraw date','Withdrawal load dip', 'Withdrawal load rise', 'Conv dip mm', 'Conv rise mm'], axis=1)"
   ]
  },
  {
   "cell_type": "code",
   "execution_count": 1,
   "metadata": {},
   "outputs": [],
   "source": [
    "import xgboost"
   ]
  },
  {
   "cell_type": "code",
   "execution_count": 3,
   "metadata": {},
   "outputs": [
    {
     "data": {
      "text/plain": [
       "'1.3.0'"
      ]
     },
     "execution_count": 3,
     "metadata": {},
     "output_type": "execute_result"
    }
   ],
   "source": [
    "xgboost.__version__"
   ]
  },
  {
   "cell_type": "code",
   "execution_count": 4,
   "metadata": {},
   "outputs": [
    {
     "name": "stdout",
     "output_type": "stream",
     "text": [
      "absl-py==0.11.0\n",
      "alabaster==0.7.12\n",
      "albumentations==0.5.2\n",
      "anaconda-client==1.7.2\n",
      "anaconda-navigator==1.10.0\n",
      "anaconda-project==0.8.3\n",
      "appdirs==1.4.4\n",
      "argh==0.26.2\n",
      "argon2-cffi @ file:///C:/ci/argon2-cffi_1596828585465/work\n",
      "asn1crypto @ file:///tmp/build/80754af9/asn1crypto_1596577642040/work\n",
      "astor==0.8.1\n",
      "astroid @ file:///C:/ci/astroid_1592487315634/work\n",
      "astropy==4.0.2\n",
      "astunparse==1.6.3\n",
      "async-generator==1.10\n",
      "atomicwrites==1.4.0\n",
      "atoti==0.5.5\n",
      "attrs @ file:///tmp/build/80754af9/attrs_1604765588209/work\n",
      "autograd==1.3\n",
      "autograd-gamma==0.5.0\n",
      "autopep8 @ file:///tmp/build/80754af9/autopep8_1596578164842/work\n",
      "Babel @ file:///tmp/build/80754af9/babel_1605108370292/work\n",
      "backcall==0.2.0\n",
      "backports.functools-lru-cache @ file:///tmp/build/80754af9/backports.functools_lru_cache_1605305165209/work\n",
      "backports.shutil-get-terminal-size==1.0.0\n",
      "backports.tempfile==1.0\n",
      "backports.weakref==1.0.post1\n",
      "bcrypt @ file:///C:/ci/bcrypt_1597936263757/work\n",
      "beautifulsoup4 @ file:///tmp/build/80754af9/beautifulsoup4_1601924105527/work\n",
      "bitarray @ file:///C:/ci/bitarray_1605065210072/work\n",
      "bkcharts==0.2\n",
      "bleach @ file:///tmp/build/80754af9/bleach_1600439572647/work\n",
      "bokeh @ file:///C:/ci/bokeh_1603297934731/work\n",
      "boto==2.49.0\n",
      "Bottleneck==1.3.2\n",
      "brotlipy==0.7.0\n",
      "cachetools==4.2.0\n",
      "catboost==0.24.3\n",
      "category-encoders==2.2.2\n",
      "certifi==2020.6.20\n",
      "cffi @ file:///C:/ci/cffi_1600699246375/work\n",
      "chardet==3.0.4\n",
      "chart-studio==1.1.0\n",
      "click==7.1.2\n",
      "cloudpickle @ file:///tmp/build/80754af9/cloudpickle_1598884132938/work\n",
      "clyent==1.2.2\n",
      "colorama @ file:///tmp/build/80754af9/colorama_1603211150991/work\n",
      "comtypes==1.1.7\n",
      "conda==4.9.2\n",
      "conda-build==3.20.5\n",
      "conda-package-handling @ file:///C:/ci/conda-package-handling_1603003327818/work\n",
      "conda-verify==3.4.2\n",
      "contextlib2==0.6.0.post1\n",
      "cryptography @ file:///C:/ci/cryptography_1601046905460/work\n",
      "cycler==0.10.0\n",
      "Cython @ file:///C:/ci/cython_1594829190914/work\n",
      "cytoolz==0.11.0\n",
      "dask @ file:///tmp/build/80754af9/dask-core_1602083700509/work\n",
      "dataclasses==0.6\n",
      "decorator==4.4.2\n",
      "defusedxml==0.6.0\n",
      "diff-match-patch @ file:///tmp/build/80754af9/diff-match-patch_1594828741838/work\n",
      "distlib==0.3.2\n",
      "distributed @ file:///C:/ci/distributed_1605066635297/work\n",
      "docutils==0.16\n",
      "efficientnet-pytorch==0.7.0\n",
      "entrypoints==0.3\n",
      "et-xmlfile==1.0.1\n",
      "fastai==1.0.61\n",
      "fastcache==1.1.0\n",
      "fastprogress==1.0.0\n",
      "ffmpeg==1.4\n",
      "filelock==3.0.12\n",
      "flake8 @ file:///tmp/build/80754af9/flake8_1601911421857/work\n",
      "Flask==1.1.2\n",
      "flatbuffers==1.12\n",
      "formulaic==0.2.3\n",
      "fsspec @ file:///tmp/build/80754af9/fsspec_1602684995936/work\n",
      "ftfy==5.8\n",
      "future==0.18.2\n",
      "gast==0.3.3\n",
      "gevent @ file:///C:/ci/gevent_1601397627942/work\n",
      "glob2==0.7\n",
      "GML==3.0.6\n",
      "google-auth==1.24.0\n",
      "google-auth-oauthlib==0.4.2\n",
      "google-pasta==0.2.0\n",
      "graphviz==0.15\n",
      "greenlet @ file:///C:/ci/greenlet_1600885448389/work\n",
      "grpcio==1.32.0\n",
      "h2o==3.32.1.3\n",
      "h5py==2.10.0\n",
      "HeapDict==1.0.1\n",
      "html5lib @ file:///tmp/build/80754af9/html5lib_1593446221756/work\n",
      "idna @ file:///tmp/build/80754af9/idna_1593446292537/work\n",
      "imageio @ file:///tmp/build/80754af9/imageio_1594161405741/work\n",
      "imagesize==1.2.0\n",
      "imgaug==0.4.0\n",
      "importlib-metadata @ file:///tmp/build/80754af9/importlib-metadata_1602276842396/work\n",
      "iniconfig @ file:///tmp/build/80754af9/iniconfig_1602780191262/work\n",
      "interface-meta==1.2.3\n",
      "intervaltree @ file:///tmp/build/80754af9/intervaltree_1598376443606/work\n",
      "ipykernel @ file:///C:/ci/ipykernel_1596190155316/work/dist/ipykernel-5.3.4-py3-none-any.whl\n",
      "ipython @ file:///C:/ci/ipython_1604083276484/work\n",
      "ipython-genutils==0.2.0\n",
      "ipywidgets @ file:///tmp/build/80754af9/ipywidgets_1601490159889/work\n",
      "isort @ file:///tmp/build/80754af9/isort_1602603989581/work\n",
      "itsdangerous==1.1.0\n",
      "jdcal==1.4.1\n",
      "jdk4py==11.0.9.0\n",
      "jedi @ file:///C:/ci/jedi_1592833825077/work\n",
      "Jinja2==2.11.2\n",
      "joblib==0.16.0\n",
      "json5==0.9.5\n",
      "jsonschema @ file:///tmp/build/80754af9/jsonschema_1602607155483/work\n",
      "jupyter==1.0.0\n",
      "jupyter-client @ file:///tmp/build/80754af9/jupyter_client_1601311786391/work\n",
      "jupyter-console @ file:///tmp/build/80754af9/jupyter_console_1598884538475/work\n",
      "jupyter-core==4.6.3\n",
      "jupyterlab==2.2.6\n",
      "jupyterlab-pygments @ file:///tmp/build/80754af9/jupyterlab_pygments_1601490720602/work\n",
      "jupyterlab-server @ file:///tmp/build/80754af9/jupyterlab_server_1594164409481/work\n",
      "Keras==2.4.3\n",
      "Keras-Preprocessing==1.1.2\n",
      "keyring @ file:///C:/ci/keyring_1601489747083/work\n",
      "kiwisolver @ file:///C:/ci/kiwisolver_1604014703538/work\n",
      "lazy-object-proxy==1.4.3\n",
      "libarchive-c==2.9\n",
      "lifelines==0.26.0\n",
      "lightgbm==3.1.1\n",
      "llvmlite==0.34.0\n",
      "locket==0.2.0\n",
      "lxml @ file:///C:/ci/lxml_1603216366346/work\n",
      "Markdown==3.3.3\n",
      "MarkupSafe==1.1.1\n",
      "matplotlib @ file:///C:/ci/matplotlib-base_1603355780617/work\n",
      "mccabe==0.6.1\n",
      "memory-profiler==0.58.0\n",
      "menuinst==1.4.16\n",
      "mistune==0.8.4\n",
      "mkl-fft==1.2.0\n",
      "mkl-random==1.1.1\n",
      "mkl-service==2.3.0\n",
      "mock==4.0.2\n",
      "more-itertools @ file:///tmp/build/80754af9/more-itertools_1605111547926/work\n",
      "mpmath==1.1.0\n",
      "msgpack==1.0.0\n",
      "multipledispatch==0.6.0\n",
      "navigator-updater==0.2.1\n",
      "nbclient @ file:///tmp/build/80754af9/nbclient_1602783176460/work\n",
      "nbconvert @ file:///C:/ci/nbconvert_1601914925608/work\n",
      "nbformat @ file:///tmp/build/80754af9/nbformat_1602783287752/work\n",
      "nest-asyncio @ file:///tmp/build/80754af9/nest-asyncio_1605115881283/work\n",
      "networkx @ file:///tmp/build/80754af9/networkx_1598376031484/work\n",
      "nltk @ file:///tmp/build/80754af9/nltk_1592496090529/work\n",
      "nose==1.3.7\n",
      "notebook @ file:///C:/ci/notebook_1601501643625/work\n",
      "numba==0.51.2\n",
      "numexpr==2.7.1\n",
      "numpy @ file:///C:/ci/numpy_and_numpy_base_1603466732592/work\n",
      "numpydoc @ file:///tmp/build/80754af9/numpydoc_1605117425582/work\n",
      "nvidia-ml-py3==7.352.0\n",
      "oauthlib==3.1.0\n",
      "olefile==0.46\n",
      "opencv-python==4.4.0.46\n",
      "opencv-python-headless==4.4.0.46\n",
      "openpyxl @ file:///tmp/build/80754af9/openpyxl_1598113097404/work\n",
      "opt-einsum==3.3.0\n",
      "packaging==20.4\n",
      "pandas==1.1.2\n",
      "pandas-datareader==0.9.0\n",
      "pandocfilters @ file:///C:/ci/pandocfilters_1605102497129/work\n",
      "paramiko @ file:///tmp/build/80754af9/paramiko_1598886428689/work\n",
      "parso==0.7.0\n",
      "partd==1.1.0\n",
      "path @ file:///C:/ci/path_1598358556930/work\n",
      "pathlib2==2.3.5\n",
      "pathtools==0.1.2\n",
      "patsy==0.5.1\n",
      "pep8==1.7.1\n",
      "pexpect==4.8.0\n",
      "pgmpy==0.1.13\n",
      "pickleshare==0.7.5\n",
      "Pillow @ file:///C:/ci/pillow_1603823068645/work\n",
      "Pint==0.16.1\n",
      "pkginfo==1.6.1\n",
      "plotly==3.10.0\n",
      "pluggy==0.13.1\n",
      "ply==3.11\n",
      "progressbar==2.5\n",
      "prometheus-client==0.8.0\n",
      "prompt-toolkit @ file:///tmp/build/80754af9/prompt-toolkit_1602688806899/work\n",
      "protobuf==3.14.0\n",
      "psutil @ file:///C:/ci/psutil_1598370330503/work\n",
      "py @ file:///tmp/build/80754af9/py_1593446248552/work\n",
      "pyarrow==3.0.0\n",
      "pyasn1==0.4.8\n",
      "pyasn1-modules==0.2.8\n",
      "pycodestyle==2.6.0\n",
      "pycosat==0.6.3\n",
      "pycparser @ file:///tmp/build/80754af9/pycparser_1594388511720/work\n",
      "pycurl==7.43.0.6\n",
      "pydocstyle @ file:///tmp/build/80754af9/pydocstyle_1598885001695/work\n",
      "pyflakes==2.2.0\n",
      "Pygments @ file:///tmp/build/80754af9/pygments_1604103097372/work\n",
      "pylint @ file:///C:/ci/pylint_1598617153160/work\n",
      "PyNaCl @ file:///C:/ci/pynacl_1595000047588/work\n",
      "pyodbc===4.0.0-unsupported\n",
      "pyOpenSSL @ file:///tmp/build/80754af9/pyopenssl_1594392929924/work\n",
      "pyparsing==2.4.7\n",
      "pyreadline==2.1\n",
      "pyrsistent @ file:///C:/ci/pyrsistent_1600141795814/work\n",
      "PySocks==1.7.1\n",
      "pytest==0.0.0\n",
      "python-dateutil==2.8.1\n",
      "python-jsonrpc-server @ file:///tmp/build/80754af9/python-jsonrpc-server_1600278539111/work\n",
      "python-language-server @ file:///tmp/build/80754af9/python-language-server_1600454544709/work\n",
      "pytorch-tabnet==3.1.1\n",
      "pytz==2020.1\n",
      "PyWavelets @ file:///C:/ci/pywavelets_1601658407916/work\n",
      "pywin32==227\n",
      "pywin32-ctypes==0.2.0\n",
      "pywinpty==0.5.7\n",
      "PyYAML==5.3.1\n",
      "pyzmq==19.0.2\n",
      "QDarkStyle==2.8.1\n",
      "QtAwesome @ file:///tmp/build/80754af9/qtawesome_1602272867890/work\n",
      "qtconsole @ file:///tmp/build/80754af9/qtconsole_1600870028330/work\n",
      "QtPy==1.9.0\n",
      "regex @ file:///C:/ci/regex_1602770567298/work\n",
      "requests @ file:///tmp/build/80754af9/requests_1592841827918/work\n",
      "requests-oauthlib==1.3.0\n",
      "retrying==1.3.3\n",
      "rope @ file:///tmp/build/80754af9/rope_1602264064449/work\n",
      "rsa==4.6\n",
      "Rtree==0.9.4\n",
      "ruamel-yaml==0.15.87\n",
      "sacremoses==0.0.43\n",
      "scikit-image==0.17.2\n",
      "scikit-learn @ file:///C:/ci/scikit-learn_1598377018496/work\n",
      "scipy @ file:///C:/ci/scipy_1604596260408/work\n",
      "seaborn @ file:///tmp/build/80754af9/seaborn_1600553570093/work\n",
      "Send2Trash==1.5.0\n",
      "sentencepiece==0.1.95\n",
      "seqeval==1.2.2\n",
      "Shapely==1.7.1\n",
      "simplegeneric==0.8.1\n",
      "singledispatch @ file:///tmp/build/80754af9/singledispatch_1602523705405/work\n",
      "sip==4.19.13\n",
      "six @ file:///C:/ci/six_1605187374963/work\n",
      "sklearn==0.0\n",
      "snowballstemmer==2.0.0\n",
      "sortedcollections==1.2.1\n",
      "sortedcontainers==2.2.2\n",
      "soupsieve==2.0.1\n",
      "Sphinx @ file:///tmp/build/80754af9/sphinx_1597428793432/work\n",
      "sphinxcontrib-applehelp==1.0.2\n",
      "sphinxcontrib-devhelp==1.0.2\n",
      "sphinxcontrib-htmlhelp==1.0.3\n",
      "sphinxcontrib-jsmath==1.0.1\n",
      "sphinxcontrib-qthelp==1.0.3\n",
      "sphinxcontrib-serializinghtml==1.1.4\n",
      "sphinxcontrib-websupport @ file:///tmp/build/80754af9/sphinxcontrib-websupport_1597081412696/work\n",
      "spyder @ file:///C:/ci/spyder_1599054115447/work\n",
      "spyder-kernels @ file:///C:/ci/spyder-kernels_1599051709837/work\n",
      "SQLAlchemy @ file:///C:/ci/sqlalchemy_1603818908746/work\n",
      "stanza==1.1.1\n",
      "statsmodels==0.12.0\n",
      "sympy @ file:///C:/ci/sympy_1605101511098/work\n",
      "tables==3.6.1\n",
      "tabulate==0.8.9\n",
      "tblib @ file:///tmp/build/80754af9/tblib_1597928476713/work\n",
      "tensorboard==2.4.0\n",
      "tensorboard-plugin-wit==1.7.0\n",
      "tensorflow==2.4.0\n",
      "tensorflow-estimator==2.4.0\n",
      "termcolor==1.1.0\n",
      "terminado==0.9.1\n",
      "testpath==0.4.4\n",
      "threadpoolctl @ file:///tmp/tmp9twdgx9k/threadpoolctl-2.1.0-py3-none-any.whl\n",
      "tifffile==2020.10.1\n",
      "tokenizers==0.9.4\n",
      "toml @ file:///tmp/build/80754af9/toml_1592853716807/work\n",
      "toolz @ file:///tmp/build/80754af9/toolz_1601054250827/work\n",
      "torch==1.7.1\n",
      "torchvision==0.5.0\n",
      "tornado==6.1\n",
      "tqdm==4.48.2\n",
      "traitlets @ file:///tmp/build/80754af9/traitlets_1602787416690/work\n",
      "transformers==4.0.1\n",
      "typeguard==2.12.1\n",
      "typing-extensions @ file:///tmp/build/80754af9/typing_extensions_1598376058250/work\n",
      "ujson @ file:///C:/ci/ujson_1602505266082/work\n",
      "unicodecsv==0.14.1\n",
      "urllib3==1.25.10\n",
      "virtualenv==20.4.7\n",
      "watchdog @ file:///C:/ci/watchdog_1593447437088/work\n",
      "wcwidth @ file:///tmp/build/80754af9/wcwidth_1593447189090/work\n",
      "webencodings==0.5.1\n",
      "Werkzeug==1.0.1\n",
      "widgetsnbextension==3.5.1\n",
      "win-inet-pton==1.1.0\n",
      "win-unicode-console==0.5\n",
      "wincertstore==0.2\n",
      "wrapt==1.12.1\n",
      "xgboost==1.3.0.post0\n",
      "xlrd==1.2.0\n",
      "XlsxWriter @ file:///tmp/build/80754af9/xlsxwriter_1602692860603/work\n",
      "xlwings==0.20.8\n",
      "xlwt==1.3.0\n",
      "xmltodict==0.12.0\n",
      "yapf @ file:///tmp/build/80754af9/yapf_1593528177422/work\n",
      "zict==2.0.0\n",
      "ZigZag==0.2.2\n",
      "zipp @ file:///tmp/build/80754af9/zipp_1604001098328/work\n",
      "zope.event==4.5.0\n",
      "zope.interface @ file:///C:/ci/zope.interface_1602002494740/work\n"
     ]
    }
   ],
   "source": [
    "!pip freeze"
   ]
  },
  {
   "cell_type": "code",
   "execution_count": 8,
   "metadata": {},
   "outputs": [
    {
     "data": {
      "text/html": [
       "<div>\n",
       "<style scoped>\n",
       "    .dataframe tbody tr th:only-of-type {\n",
       "        vertical-align: middle;\n",
       "    }\n",
       "\n",
       "    .dataframe tbody tr th {\n",
       "        vertical-align: top;\n",
       "    }\n",
       "\n",
       "    .dataframe thead th {\n",
       "        text-align: right;\n",
       "    }\n",
       "</style>\n",
       "<table border=\"1\" class=\"dataframe\">\n",
       "  <thead>\n",
       "    <tr style=\"text-align: right;\">\n",
       "      <th></th>\n",
       "      <th>stag</th>\n",
       "      <th>event</th>\n",
       "      <th>gender</th>\n",
       "      <th>age</th>\n",
       "      <th>industry</th>\n",
       "      <th>profession</th>\n",
       "      <th>traffic</th>\n",
       "      <th>coach</th>\n",
       "      <th>head_gender</th>\n",
       "      <th>greywage</th>\n",
       "      <th>way</th>\n",
       "      <th>extraversion</th>\n",
       "      <th>independ</th>\n",
       "      <th>selfcontrol</th>\n",
       "      <th>anxiety</th>\n",
       "      <th>novator</th>\n",
       "    </tr>\n",
       "  </thead>\n",
       "  <tbody>\n",
       "    <tr>\n",
       "      <th>0</th>\n",
       "      <td>7.030801</td>\n",
       "      <td>1</td>\n",
       "      <td>m</td>\n",
       "      <td>35.0</td>\n",
       "      <td>Banks</td>\n",
       "      <td>HR</td>\n",
       "      <td>rabrecNErab</td>\n",
       "      <td>no</td>\n",
       "      <td>f</td>\n",
       "      <td>white</td>\n",
       "      <td>bus</td>\n",
       "      <td>6.2</td>\n",
       "      <td>4.1</td>\n",
       "      <td>5.7</td>\n",
       "      <td>7.1</td>\n",
       "      <td>8.3</td>\n",
       "    </tr>\n",
       "    <tr>\n",
       "      <th>1</th>\n",
       "      <td>22.965092</td>\n",
       "      <td>1</td>\n",
       "      <td>m</td>\n",
       "      <td>33.0</td>\n",
       "      <td>Banks</td>\n",
       "      <td>HR</td>\n",
       "      <td>empjs</td>\n",
       "      <td>no</td>\n",
       "      <td>m</td>\n",
       "      <td>white</td>\n",
       "      <td>bus</td>\n",
       "      <td>6.2</td>\n",
       "      <td>4.1</td>\n",
       "      <td>5.7</td>\n",
       "      <td>7.1</td>\n",
       "      <td>8.3</td>\n",
       "    </tr>\n",
       "    <tr>\n",
       "      <th>2</th>\n",
       "      <td>15.934292</td>\n",
       "      <td>1</td>\n",
       "      <td>f</td>\n",
       "      <td>35.0</td>\n",
       "      <td>PowerGeneration</td>\n",
       "      <td>HR</td>\n",
       "      <td>rabrecNErab</td>\n",
       "      <td>no</td>\n",
       "      <td>m</td>\n",
       "      <td>white</td>\n",
       "      <td>bus</td>\n",
       "      <td>6.2</td>\n",
       "      <td>6.2</td>\n",
       "      <td>2.6</td>\n",
       "      <td>4.8</td>\n",
       "      <td>8.3</td>\n",
       "    </tr>\n",
       "    <tr>\n",
       "      <th>3</th>\n",
       "      <td>15.934292</td>\n",
       "      <td>1</td>\n",
       "      <td>f</td>\n",
       "      <td>35.0</td>\n",
       "      <td>PowerGeneration</td>\n",
       "      <td>HR</td>\n",
       "      <td>rabrecNErab</td>\n",
       "      <td>no</td>\n",
       "      <td>m</td>\n",
       "      <td>white</td>\n",
       "      <td>bus</td>\n",
       "      <td>5.4</td>\n",
       "      <td>7.6</td>\n",
       "      <td>4.9</td>\n",
       "      <td>2.5</td>\n",
       "      <td>6.7</td>\n",
       "    </tr>\n",
       "    <tr>\n",
       "      <th>4</th>\n",
       "      <td>8.410678</td>\n",
       "      <td>1</td>\n",
       "      <td>m</td>\n",
       "      <td>32.0</td>\n",
       "      <td>Retail</td>\n",
       "      <td>Commercial</td>\n",
       "      <td>youjs</td>\n",
       "      <td>yes</td>\n",
       "      <td>f</td>\n",
       "      <td>white</td>\n",
       "      <td>bus</td>\n",
       "      <td>3.0</td>\n",
       "      <td>4.1</td>\n",
       "      <td>8.0</td>\n",
       "      <td>7.1</td>\n",
       "      <td>3.7</td>\n",
       "    </tr>\n",
       "  </tbody>\n",
       "</table>\n",
       "</div>"
      ],
      "text/plain": [
       "        stag  event gender   age         industry  profession      traffic  \\\n",
       "0   7.030801      1      m  35.0            Banks          HR  rabrecNErab   \n",
       "1  22.965092      1      m  33.0            Banks          HR        empjs   \n",
       "2  15.934292      1      f  35.0  PowerGeneration          HR  rabrecNErab   \n",
       "3  15.934292      1      f  35.0  PowerGeneration          HR  rabrecNErab   \n",
       "4   8.410678      1      m  32.0           Retail  Commercial        youjs   \n",
       "\n",
       "  coach head_gender greywage  way  extraversion  independ  selfcontrol  \\\n",
       "0    no           f    white  bus           6.2       4.1          5.7   \n",
       "1    no           m    white  bus           6.2       4.1          5.7   \n",
       "2    no           m    white  bus           6.2       6.2          2.6   \n",
       "3    no           m    white  bus           5.4       7.6          4.9   \n",
       "4   yes           f    white  bus           3.0       4.1          8.0   \n",
       "\n",
       "   anxiety  novator  \n",
       "0      7.1      8.3  \n",
       "1      7.1      8.3  \n",
       "2      4.8      8.3  \n",
       "3      2.5      6.7  \n",
       "4      7.1      3.7  "
      ]
     },
     "execution_count": 8,
     "metadata": {},
     "output_type": "execute_result"
    }
   ],
   "source": [
    "turn = pd.read_csv(r'C:\\Users\\LENOVO\\Desktop\\Surv\\turnover.csv', encoding='latin-1')\n",
    "turn.head()"
   ]
  },
  {
   "cell_type": "code",
   "execution_count": 10,
   "metadata": {},
   "outputs": [
    {
     "data": {
      "text/plain": [
       "(1129, 16)"
      ]
     },
     "execution_count": 10,
     "metadata": {},
     "output_type": "execute_result"
    }
   ],
   "source": [
    "turn.shape"
   ]
  },
  {
   "cell_type": "code",
   "execution_count": 38,
   "metadata": {},
   "outputs": [
    {
     "data": {
      "text/html": [
       "<div>\n",
       "<style scoped>\n",
       "    .dataframe tbody tr th:only-of-type {\n",
       "        vertical-align: middle;\n",
       "    }\n",
       "\n",
       "    .dataframe tbody tr th {\n",
       "        vertical-align: top;\n",
       "    }\n",
       "\n",
       "    .dataframe thead th {\n",
       "        text-align: right;\n",
       "    }\n",
       "</style>\n",
       "<table border=\"1\" class=\"dataframe\">\n",
       "  <thead>\n",
       "    <tr style=\"text-align: right;\">\n",
       "      <th></th>\n",
       "      <th>a</th>\n",
       "      <th>b</th>\n",
       "      <th>c</th>\n",
       "    </tr>\n",
       "  </thead>\n",
       "  <tbody>\n",
       "    <tr>\n",
       "      <th>0</th>\n",
       "      <td>0</td>\n",
       "      <td>-1.5600</td>\n",
       "      <td>5</td>\n",
       "    </tr>\n",
       "    <tr>\n",
       "      <th>1</th>\n",
       "      <td>2</td>\n",
       "      <td>6.5600</td>\n",
       "      <td>6</td>\n",
       "    </tr>\n",
       "    <tr>\n",
       "      <th>2</th>\n",
       "      <td>3</td>\n",
       "      <td>8.0000</td>\n",
       "      <td>8</td>\n",
       "    </tr>\n",
       "    <tr>\n",
       "      <th>3</th>\n",
       "      <td>0</td>\n",
       "      <td>1.0000</td>\n",
       "      <td>5</td>\n",
       "    </tr>\n",
       "  </tbody>\n",
       "</table>\n",
       "</div>"
      ],
      "text/plain": [
       "   a       b  c\n",
       "0  0 -1.5600  5\n",
       "1  2  6.5600  6\n",
       "2  3  8.0000  8\n",
       "3  0  1.0000  5"
      ]
     },
     "execution_count": 38,
     "metadata": {},
     "output_type": "execute_result"
    }
   ],
   "source": [
    "dd = {'a':[0,2,3, 0], 'b':[-1.56,6.56,8,1], 'c':[5,6,8,5]}\n",
    "dd = pd.DataFrame(dd)\n",
    "dd"
   ]
  },
  {
   "cell_type": "code",
   "execution_count": 39,
   "metadata": {},
   "outputs": [],
   "source": [
    "dd['b'] = abs(dd['b'])"
   ]
  },
  {
   "cell_type": "code",
   "execution_count": 40,
   "metadata": {},
   "outputs": [
    {
     "data": {
      "text/html": [
       "<div>\n",
       "<style scoped>\n",
       "    .dataframe tbody tr th:only-of-type {\n",
       "        vertical-align: middle;\n",
       "    }\n",
       "\n",
       "    .dataframe tbody tr th {\n",
       "        vertical-align: top;\n",
       "    }\n",
       "\n",
       "    .dataframe thead th {\n",
       "        text-align: right;\n",
       "    }\n",
       "</style>\n",
       "<table border=\"1\" class=\"dataframe\">\n",
       "  <thead>\n",
       "    <tr style=\"text-align: right;\">\n",
       "      <th></th>\n",
       "      <th>a</th>\n",
       "      <th>b</th>\n",
       "      <th>c</th>\n",
       "    </tr>\n",
       "  </thead>\n",
       "  <tbody>\n",
       "    <tr>\n",
       "      <th>0</th>\n",
       "      <td>80</td>\n",
       "      <td>1.5600</td>\n",
       "      <td>5</td>\n",
       "    </tr>\n",
       "    <tr>\n",
       "      <th>1</th>\n",
       "      <td>2</td>\n",
       "      <td>6.5600</td>\n",
       "      <td>6</td>\n",
       "    </tr>\n",
       "    <tr>\n",
       "      <th>2</th>\n",
       "      <td>3</td>\n",
       "      <td>8.0000</td>\n",
       "      <td>8</td>\n",
       "    </tr>\n",
       "    <tr>\n",
       "      <th>3</th>\n",
       "      <td>80</td>\n",
       "      <td>1.0000</td>\n",
       "      <td>5</td>\n",
       "    </tr>\n",
       "  </tbody>\n",
       "</table>\n",
       "</div>"
      ],
      "text/plain": [
       "    a      b  c\n",
       "0  80 1.5600  5\n",
       "1   2 6.5600  6\n",
       "2   3 8.0000  8\n",
       "3  80 1.0000  5"
      ]
     },
     "execution_count": 40,
     "metadata": {},
     "output_type": "execute_result"
    }
   ],
   "source": [
    "dd[dd == 0] = 80\n",
    "dd"
   ]
  },
  {
   "cell_type": "code",
   "execution_count": 140,
   "metadata": {},
   "outputs": [
    {
     "ename": "AttributeError",
     "evalue": "'NoneType' object has no attribute 'iloc'",
     "output_type": "error",
     "traceback": [
      "\u001b[1;31m---------------------------------------------------------------------------\u001b[0m",
      "\u001b[1;31mAttributeError\u001b[0m                            Traceback (most recent call last)",
      "\u001b[1;32m<ipython-input-140-c679b3de2379>\u001b[0m in \u001b[0;36m<module>\u001b[1;34m\u001b[0m\n\u001b[1;32m----> 1\u001b[1;33m \u001b[0mdd\u001b[0m \u001b[1;33m=\u001b[0m \u001b[0mdd\u001b[0m\u001b[1;33m.\u001b[0m\u001b[0mdrop_duplicates\u001b[0m\u001b[1;33m(\u001b[0m\u001b[0minplace\u001b[0m\u001b[1;33m=\u001b[0m\u001b[1;32mTrue\u001b[0m\u001b[1;33m,\u001b[0m \u001b[0mkeep\u001b[0m\u001b[1;33m=\u001b[0m\u001b[1;32mFalse\u001b[0m\u001b[1;33m)\u001b[0m\u001b[1;33m.\u001b[0m\u001b[0miloc\u001b[0m\u001b[1;33m[\u001b[0m\u001b[1;33m:\u001b[0m\u001b[1;33m,\u001b[0m \u001b[1;36m0\u001b[0m\u001b[1;33m]\u001b[0m\u001b[1;33m\u001b[0m\u001b[1;33m\u001b[0m\u001b[0m\n\u001b[0m",
      "\u001b[1;31mAttributeError\u001b[0m: 'NoneType' object has no attribute 'iloc'"
     ]
    }
   ],
   "source": [
    "dd.drop_duplicates(inplace=True, keep=False).iloc[:, 0]"
   ]
  },
  {
   "cell_type": "code",
   "execution_count": 72,
   "metadata": {},
   "outputs": [
    {
     "data": {
      "text/html": [
       "<div>\n",
       "<style scoped>\n",
       "    .dataframe tbody tr th:only-of-type {\n",
       "        vertical-align: middle;\n",
       "    }\n",
       "\n",
       "    .dataframe tbody tr th {\n",
       "        vertical-align: top;\n",
       "    }\n",
       "\n",
       "    .dataframe thead th {\n",
       "        text-align: right;\n",
       "    }\n",
       "</style>\n",
       "<table border=\"1\" class=\"dataframe\">\n",
       "  <thead>\n",
       "    <tr style=\"text-align: right;\">\n",
       "      <th></th>\n",
       "      <th>a</th>\n",
       "      <th>b</th>\n",
       "      <th>c</th>\n",
       "    </tr>\n",
       "  </thead>\n",
       "  <tbody>\n",
       "    <tr>\n",
       "      <th>0</th>\n",
       "      <td>0</td>\n",
       "      <td>1</td>\n",
       "      <td>5</td>\n",
       "    </tr>\n",
       "    <tr>\n",
       "      <th>1</th>\n",
       "      <td>2</td>\n",
       "      <td>6</td>\n",
       "      <td>6</td>\n",
       "    </tr>\n",
       "    <tr>\n",
       "      <th>2</th>\n",
       "      <td>3</td>\n",
       "      <td>8</td>\n",
       "      <td>8</td>\n",
       "    </tr>\n",
       "    <tr>\n",
       "      <th>3</th>\n",
       "      <td>0</td>\n",
       "      <td>7</td>\n",
       "      <td>9</td>\n",
       "    </tr>\n",
       "  </tbody>\n",
       "</table>\n",
       "</div>"
      ],
      "text/plain": [
       "   a  b  c\n",
       "0  0  1  5\n",
       "1  2  6  6\n",
       "2  3  8  8\n",
       "3  0  7  9"
      ]
     },
     "execution_count": 72,
     "metadata": {},
     "output_type": "execute_result"
    }
   ],
   "source": [
    "dd.drop_duplicates(keep=False, inplace=True)\n",
    "dd"
   ]
  },
  {
   "cell_type": "code",
   "execution_count": null,
   "metadata": {},
   "outputs": [],
   "source": [
    "for k in ['a', 'b']:\n",
    "    print(dd[k])"
   ]
  },
  {
   "cell_type": "code",
   "execution_count": 24,
   "metadata": {},
   "outputs": [],
   "source": [
    "from lifelines.datasets import load_dd, load_canadian_senators"
   ]
  },
  {
   "cell_type": "code",
   "execution_count": 25,
   "metadata": {},
   "outputs": [
    {
     "data": {
      "text/html": [
       "<div>\n",
       "<style scoped>\n",
       "    .dataframe tbody tr th:only-of-type {\n",
       "        vertical-align: middle;\n",
       "    }\n",
       "\n",
       "    .dataframe tbody tr th {\n",
       "        vertical-align: top;\n",
       "    }\n",
       "\n",
       "    .dataframe thead th {\n",
       "        text-align: right;\n",
       "    }\n",
       "</style>\n",
       "<table border=\"1\" class=\"dataframe\">\n",
       "  <thead>\n",
       "    <tr style=\"text-align: right;\">\n",
       "      <th></th>\n",
       "      <th>ctryname</th>\n",
       "      <th>cowcode2</th>\n",
       "      <th>politycode</th>\n",
       "      <th>un_region_name</th>\n",
       "      <th>un_continent_name</th>\n",
       "      <th>ehead</th>\n",
       "      <th>leaderspellreg</th>\n",
       "      <th>democracy</th>\n",
       "      <th>regime</th>\n",
       "      <th>start_year</th>\n",
       "      <th>duration</th>\n",
       "      <th>observed</th>\n",
       "    </tr>\n",
       "  </thead>\n",
       "  <tbody>\n",
       "    <tr>\n",
       "      <th>0</th>\n",
       "      <td>Afghanistan</td>\n",
       "      <td>700</td>\n",
       "      <td>700.0</td>\n",
       "      <td>Southern Asia</td>\n",
       "      <td>Asia</td>\n",
       "      <td>Mohammad Zahir Shah</td>\n",
       "      <td>Mohammad Zahir Shah.Afghanistan.1946.1952.Mona...</td>\n",
       "      <td>Non-democracy</td>\n",
       "      <td>Monarchy</td>\n",
       "      <td>1946</td>\n",
       "      <td>7</td>\n",
       "      <td>1</td>\n",
       "    </tr>\n",
       "    <tr>\n",
       "      <th>1</th>\n",
       "      <td>Afghanistan</td>\n",
       "      <td>700</td>\n",
       "      <td>700.0</td>\n",
       "      <td>Southern Asia</td>\n",
       "      <td>Asia</td>\n",
       "      <td>Sardar Mohammad Daoud</td>\n",
       "      <td>Sardar Mohammad Daoud.Afghanistan.1953.1962.Ci...</td>\n",
       "      <td>Non-democracy</td>\n",
       "      <td>Civilian Dict</td>\n",
       "      <td>1953</td>\n",
       "      <td>10</td>\n",
       "      <td>1</td>\n",
       "    </tr>\n",
       "    <tr>\n",
       "      <th>2</th>\n",
       "      <td>Afghanistan</td>\n",
       "      <td>700</td>\n",
       "      <td>700.0</td>\n",
       "      <td>Southern Asia</td>\n",
       "      <td>Asia</td>\n",
       "      <td>Mohammad Zahir Shah</td>\n",
       "      <td>Mohammad Zahir Shah.Afghanistan.1963.1972.Mona...</td>\n",
       "      <td>Non-democracy</td>\n",
       "      <td>Monarchy</td>\n",
       "      <td>1963</td>\n",
       "      <td>10</td>\n",
       "      <td>1</td>\n",
       "    </tr>\n",
       "    <tr>\n",
       "      <th>3</th>\n",
       "      <td>Afghanistan</td>\n",
       "      <td>700</td>\n",
       "      <td>700.0</td>\n",
       "      <td>Southern Asia</td>\n",
       "      <td>Asia</td>\n",
       "      <td>Sardar Mohammad Daoud</td>\n",
       "      <td>Sardar Mohammad Daoud.Afghanistan.1973.1977.Ci...</td>\n",
       "      <td>Non-democracy</td>\n",
       "      <td>Civilian Dict</td>\n",
       "      <td>1973</td>\n",
       "      <td>5</td>\n",
       "      <td>0</td>\n",
       "    </tr>\n",
       "    <tr>\n",
       "      <th>4</th>\n",
       "      <td>Afghanistan</td>\n",
       "      <td>700</td>\n",
       "      <td>700.0</td>\n",
       "      <td>Southern Asia</td>\n",
       "      <td>Asia</td>\n",
       "      <td>Nur Mohammad Taraki</td>\n",
       "      <td>Nur Mohammad Taraki.Afghanistan.1978.1978.Civi...</td>\n",
       "      <td>Non-democracy</td>\n",
       "      <td>Civilian Dict</td>\n",
       "      <td>1978</td>\n",
       "      <td>1</td>\n",
       "      <td>0</td>\n",
       "    </tr>\n",
       "  </tbody>\n",
       "</table>\n",
       "</div>"
      ],
      "text/plain": [
       "      ctryname  cowcode2  politycode un_region_name un_continent_name  \\\n",
       "0  Afghanistan       700       700.0  Southern Asia              Asia   \n",
       "1  Afghanistan       700       700.0  Southern Asia              Asia   \n",
       "2  Afghanistan       700       700.0  Southern Asia              Asia   \n",
       "3  Afghanistan       700       700.0  Southern Asia              Asia   \n",
       "4  Afghanistan       700       700.0  Southern Asia              Asia   \n",
       "\n",
       "                   ehead                                     leaderspellreg  \\\n",
       "0    Mohammad Zahir Shah  Mohammad Zahir Shah.Afghanistan.1946.1952.Mona...   \n",
       "1  Sardar Mohammad Daoud  Sardar Mohammad Daoud.Afghanistan.1953.1962.Ci...   \n",
       "2    Mohammad Zahir Shah  Mohammad Zahir Shah.Afghanistan.1963.1972.Mona...   \n",
       "3  Sardar Mohammad Daoud  Sardar Mohammad Daoud.Afghanistan.1973.1977.Ci...   \n",
       "4    Nur Mohammad Taraki  Nur Mohammad Taraki.Afghanistan.1978.1978.Civi...   \n",
       "\n",
       "       democracy         regime  start_year  duration  observed  \n",
       "0  Non-democracy       Monarchy        1946         7         1  \n",
       "1  Non-democracy  Civilian Dict        1953        10         1  \n",
       "2  Non-democracy       Monarchy        1963        10         1  \n",
       "3  Non-democracy  Civilian Dict        1973         5         0  \n",
       "4  Non-democracy  Civilian Dict        1978         1         0  "
      ]
     },
     "execution_count": 25,
     "metadata": {},
     "output_type": "execute_result"
    }
   ],
   "source": [
    "dd = load_dd()\n",
    "dd.head()"
   ]
  },
  {
   "cell_type": "code",
   "execution_count": 26,
   "metadata": {},
   "outputs": [],
   "source": [
    "dd.to_csv('dd_data.csv', index=False)"
   ]
  },
  {
   "cell_type": "code",
   "execution_count": 27,
   "metadata": {},
   "outputs": [],
   "source": [
    "senator = load_canadian_senators()\n",
    "senator.to_csv('senator.csv', index=False)"
   ]
  },
  {
   "cell_type": "code",
   "execution_count": 29,
   "metadata": {},
   "outputs": [],
   "source": [
    "turn1 = turn.copy()\n",
    "turn1['stag'] = turn1['stag']/100\n",
    "turn1.to_csv(r'C:\\Users\\LENOVO\\Desktop\\Surv\\turnover1.csv', index=False)"
   ]
  },
  {
   "cell_type": "code",
   "execution_count": 30,
   "metadata": {},
   "outputs": [],
   "source": [
    "turn.to_csv(r'C:\\Users\\LENOVO\\Desktop\\Surv\\turnover.csv', index=False)"
   ]
  },
  {
   "cell_type": "code",
   "execution_count": 41,
   "metadata": {},
   "outputs": [
    {
     "data": {
      "text/plain": [
       "True"
      ]
     },
     "execution_count": 41,
     "metadata": {},
     "output_type": "execute_result"
    }
   ],
   "source": [
    "s = 's'\n",
    "dd['ctryname'].dtype == 'object'"
   ]
  },
  {
   "cell_type": "code",
   "execution_count": 43,
   "metadata": {},
   "outputs": [],
   "source": [
    "txt_cols = [cols for cols in dd.columns if dd[cols].dtype not in ['int64', 'int32', 'float64', 'float32', 'int8']]"
   ]
  },
  {
   "cell_type": "code",
   "execution_count": 44,
   "metadata": {},
   "outputs": [
    {
     "data": {
      "text/plain": [
       "['ctryname',\n",
       " 'un_region_name',\n",
       " 'un_continent_name',\n",
       " 'ehead',\n",
       " 'leaderspellreg',\n",
       " 'democracy',\n",
       " 'regime']"
      ]
     },
     "execution_count": 44,
     "metadata": {},
     "output_type": "execute_result"
    }
   ],
   "source": [
    "txt_cols"
   ]
  },
  {
   "cell_type": "code",
   "execution_count": 56,
   "metadata": {},
   "outputs": [
    {
     "name": "stdout",
     "output_type": "stream",
     "text": [
      "\n",
      "Enter the name of columns separated by comma that you want to dropor None in case there are no columns to drop: a, b, c\n"
     ]
    }
   ],
   "source": [
    "cc = [item for item in input(\"\\nEnter the name of columns separated by comma that you want to drop\"\n",
    "                                           \"or None in case there are no columns to drop: \").split(', ')]"
   ]
  },
  {
   "cell_type": "code",
   "execution_count": 59,
   "metadata": {},
   "outputs": [],
   "source": [
    "ll = ['a', 'b', 'c', 'n']"
   ]
  },
  {
   "cell_type": "code",
   "execution_count": 61,
   "metadata": {},
   "outputs": [
    {
     "ename": "AttributeError",
     "evalue": "'list' object has no attribute 'all'",
     "output_type": "error",
     "traceback": [
      "\u001b[1;31m---------------------------------------------------------------------------\u001b[0m",
      "\u001b[1;31mAttributeError\u001b[0m                            Traceback (most recent call last)",
      "\u001b[1;32m<ipython-input-61-ef5f752a04da>\u001b[0m in \u001b[0;36m<module>\u001b[1;34m\u001b[0m\n\u001b[1;32m----> 1\u001b[1;33m \u001b[0mcc\u001b[0m\u001b[1;33m.\u001b[0m\u001b[0mall\u001b[0m\u001b[1;33m(\u001b[0m\u001b[1;33m)\u001b[0m \u001b[1;32min\u001b[0m \u001b[0mll\u001b[0m\u001b[1;33m\u001b[0m\u001b[1;33m\u001b[0m\u001b[0m\n\u001b[0m",
      "\u001b[1;31mAttributeError\u001b[0m: 'list' object has no attribute 'all'"
     ]
    }
   ],
   "source": [
    " in ll"
   ]
  },
  {
   "cell_type": "code",
   "execution_count": 65,
   "metadata": {},
   "outputs": [],
   "source": [
    "def return_():\n",
    "    s = 's'\n",
    "    a = 'a'\n",
    "    l = 'l'\n",
    "    return [s, a, l]\n",
    "\n",
    "win = return_()"
   ]
  },
  {
   "cell_type": "code",
   "execution_count": 66,
   "metadata": {},
   "outputs": [
    {
     "data": {
      "text/plain": [
       "['s', 'a', 'l']"
      ]
     },
     "execution_count": 66,
     "metadata": {},
     "output_type": "execute_result"
    }
   ],
   "source": [
    "win"
   ]
  },
  {
   "cell_type": "code",
   "execution_count": 67,
   "metadata": {},
   "outputs": [
    {
     "data": {
      "text/plain": [
       "3"
      ]
     },
     "execution_count": 67,
     "metadata": {},
     "output_type": "execute_result"
    }
   ],
   "source": [
    "len(win)"
   ]
  },
  {
   "cell_type": "code",
   "execution_count": 73,
   "metadata": {},
   "outputs": [
    {
     "name": "stdout",
     "output_type": "stream",
     "text": [
      "   a  b  c\n",
      "0  0  1  5\n",
      "1  2  6  6\n",
      "2  3  8  8\n",
      "3  0  7  9\n"
     ]
    }
   ],
   "source": [
    "print(dd)"
   ]
  },
  {
   "cell_type": "code",
   "execution_count": 74,
   "metadata": {},
   "outputs": [
    {
     "data": {
      "text/html": [
       "<div>\n",
       "<style scoped>\n",
       "    .dataframe tbody tr th:only-of-type {\n",
       "        vertical-align: middle;\n",
       "    }\n",
       "\n",
       "    .dataframe tbody tr th {\n",
       "        vertical-align: top;\n",
       "    }\n",
       "\n",
       "    .dataframe thead th {\n",
       "        text-align: right;\n",
       "    }\n",
       "</style>\n",
       "<table border=\"1\" class=\"dataframe\">\n",
       "  <thead>\n",
       "    <tr style=\"text-align: right;\">\n",
       "      <th></th>\n",
       "      <th>a</th>\n",
       "      <th>b</th>\n",
       "      <th>c</th>\n",
       "    </tr>\n",
       "  </thead>\n",
       "  <tbody>\n",
       "    <tr>\n",
       "      <th>0</th>\n",
       "      <td>0</td>\n",
       "      <td>1</td>\n",
       "      <td>5</td>\n",
       "    </tr>\n",
       "    <tr>\n",
       "      <th>1</th>\n",
       "      <td>2</td>\n",
       "      <td>6</td>\n",
       "      <td>6</td>\n",
       "    </tr>\n",
       "    <tr>\n",
       "      <th>2</th>\n",
       "      <td>3</td>\n",
       "      <td>8</td>\n",
       "      <td>8</td>\n",
       "    </tr>\n",
       "    <tr>\n",
       "      <th>3</th>\n",
       "      <td>0</td>\n",
       "      <td>7</td>\n",
       "      <td>9</td>\n",
       "    </tr>\n",
       "  </tbody>\n",
       "</table>\n",
       "</div>"
      ],
      "text/plain": [
       "   a  b  c\n",
       "0  0  1  5\n",
       "1  2  6  6\n",
       "2  3  8  8\n",
       "3  0  7  9"
      ]
     },
     "metadata": {},
     "output_type": "display_data"
    }
   ],
   "source": [
    "display(dd)"
   ]
  },
  {
   "cell_type": "code",
   "execution_count": 80,
   "metadata": {},
   "outputs": [],
   "source": [
    "from IPython.display import display, display_html"
   ]
  },
  {
   "cell_type": "code",
   "execution_count": 76,
   "metadata": {},
   "outputs": [
    {
     "data": {
      "text/html": [
       "<div>\n",
       "<style scoped>\n",
       "    .dataframe tbody tr th:only-of-type {\n",
       "        vertical-align: middle;\n",
       "    }\n",
       "\n",
       "    .dataframe tbody tr th {\n",
       "        vertical-align: top;\n",
       "    }\n",
       "\n",
       "    .dataframe thead th {\n",
       "        text-align: right;\n",
       "    }\n",
       "</style>\n",
       "<table border=\"1\" class=\"dataframe\">\n",
       "  <thead>\n",
       "    <tr style=\"text-align: right;\">\n",
       "      <th></th>\n",
       "      <th>a</th>\n",
       "      <th>b</th>\n",
       "      <th>c</th>\n",
       "    </tr>\n",
       "  </thead>\n",
       "  <tbody>\n",
       "    <tr>\n",
       "      <th>0</th>\n",
       "      <td>0</td>\n",
       "      <td>1</td>\n",
       "      <td>5</td>\n",
       "    </tr>\n",
       "    <tr>\n",
       "      <th>1</th>\n",
       "      <td>2</td>\n",
       "      <td>6</td>\n",
       "      <td>6</td>\n",
       "    </tr>\n",
       "    <tr>\n",
       "      <th>2</th>\n",
       "      <td>3</td>\n",
       "      <td>8</td>\n",
       "      <td>8</td>\n",
       "    </tr>\n",
       "    <tr>\n",
       "      <th>3</th>\n",
       "      <td>0</td>\n",
       "      <td>7</td>\n",
       "      <td>9</td>\n",
       "    </tr>\n",
       "  </tbody>\n",
       "</table>\n",
       "</div>"
      ],
      "text/plain": [
       "   a  b  c\n",
       "0  0  1  5\n",
       "1  2  6  6\n",
       "2  3  8  8\n",
       "3  0  7  9"
      ]
     },
     "metadata": {},
     "output_type": "display_data"
    }
   ],
   "source": [
    "display(dd)"
   ]
  },
  {
   "cell_type": "code",
   "execution_count": 81,
   "metadata": {},
   "outputs": [],
   "source": [
    "from itertools import cycle, chain\n",
    "def display_side_by_side(*args, titles=cycle([''])):\n",
    "    html_str = ''\n",
    "    for df, title in zip(args, chain(titles, cycle(['</br>']))):\n",
    "        html_str += '<th style=\"text-align:center\"><td style=\"vertical-align:top\">'\n",
    "        html_str += f'<h5>{title}</h5>'\n",
    "        html_str += df.to_html().replace('table', 'table style=\"display:inline\"')\n",
    "        html_str += '</td></th>'\n",
    "    display_html(html_str, raw=True)"
   ]
  },
  {
   "cell_type": "code",
   "execution_count": 82,
   "metadata": {},
   "outputs": [
    {
     "data": {
      "text/html": [
       "<th style=\"text-align:center\"><td style=\"vertical-align:top\"><h5></h5><table style=\"display:inline\" border=\"1\" class=\"dataframe\">\n",
       "  <thead>\n",
       "    <tr style=\"text-align: right;\">\n",
       "      <th></th>\n",
       "      <th>a</th>\n",
       "      <th>b</th>\n",
       "      <th>c</th>\n",
       "    </tr>\n",
       "  </thead>\n",
       "  <tbody>\n",
       "    <tr>\n",
       "      <th>0</th>\n",
       "      <td>0</td>\n",
       "      <td>1</td>\n",
       "      <td>5</td>\n",
       "    </tr>\n",
       "    <tr>\n",
       "      <th>1</th>\n",
       "      <td>2</td>\n",
       "      <td>6</td>\n",
       "      <td>6</td>\n",
       "    </tr>\n",
       "  </tbody>\n",
       "</table style=\"display:inline\"></td></th>"
      ]
     },
     "metadata": {},
     "output_type": "display_data"
    }
   ],
   "source": [
    "display_side_by_side(dd.head(2))"
   ]
  },
  {
   "cell_type": "code",
   "execution_count": 83,
   "metadata": {},
   "outputs": [],
   "source": [
    "sen = pd.read_csv(r'C:\\Users\\LENOVO\\Desktop\\Surv\\senator.csv')"
   ]
  },
  {
   "cell_type": "code",
   "execution_count": 84,
   "metadata": {},
   "outputs": [
    {
     "data": {
      "text/plain": [
       "Name                                     0\n",
       "Political Affiliation at Appointment     0\n",
       "Province / Territory                     0\n",
       "Appointed on the advice of               0\n",
       "Term (yyyy.mm.dd)                        0\n",
       "start_date                               0\n",
       "end_date                                 0\n",
       "reason                                  99\n",
       "diff_days                                0\n",
       "observed                                 0\n",
       "dtype: int64"
      ]
     },
     "execution_count": 84,
     "metadata": {},
     "output_type": "execute_result"
    }
   ],
   "source": [
    "sen.isnull().sum()"
   ]
  },
  {
   "cell_type": "code",
   "execution_count": 85,
   "metadata": {},
   "outputs": [
    {
     "data": {
      "text/html": [
       "<div>\n",
       "<style scoped>\n",
       "    .dataframe tbody tr th:only-of-type {\n",
       "        vertical-align: middle;\n",
       "    }\n",
       "\n",
       "    .dataframe tbody tr th {\n",
       "        vertical-align: top;\n",
       "    }\n",
       "\n",
       "    .dataframe thead th {\n",
       "        text-align: right;\n",
       "    }\n",
       "</style>\n",
       "<table border=\"1\" class=\"dataframe\">\n",
       "  <thead>\n",
       "    <tr style=\"text-align: right;\">\n",
       "      <th></th>\n",
       "      <th>a</th>\n",
       "      <th>b</th>\n",
       "      <th>c</th>\n",
       "    </tr>\n",
       "  </thead>\n",
       "  <tbody>\n",
       "    <tr>\n",
       "      <th>0</th>\n",
       "      <td>0</td>\n",
       "      <td>1</td>\n",
       "      <td>5</td>\n",
       "    </tr>\n",
       "    <tr>\n",
       "      <th>1</th>\n",
       "      <td>2</td>\n",
       "      <td>6</td>\n",
       "      <td>6</td>\n",
       "    </tr>\n",
       "    <tr>\n",
       "      <th>2</th>\n",
       "      <td>3</td>\n",
       "      <td>8</td>\n",
       "      <td>8</td>\n",
       "    </tr>\n",
       "    <tr>\n",
       "      <th>3</th>\n",
       "      <td>0</td>\n",
       "      <td>7</td>\n",
       "      <td>9</td>\n",
       "    </tr>\n",
       "  </tbody>\n",
       "</table>\n",
       "</div>"
      ],
      "text/plain": [
       "   a  b  c\n",
       "0  0  1  5\n",
       "1  2  6  6\n",
       "2  3  8  8\n",
       "3  0  7  9"
      ]
     },
     "execution_count": 85,
     "metadata": {},
     "output_type": "execute_result"
    }
   ],
   "source": [
    "dd"
   ]
  },
  {
   "cell_type": "code",
   "execution_count": 89,
   "metadata": {},
   "outputs": [],
   "source": [
    "dd.loc[0, 'b'] = np.nan"
   ]
  },
  {
   "cell_type": "code",
   "execution_count": 90,
   "metadata": {},
   "outputs": [
    {
     "data": {
      "text/html": [
       "<div>\n",
       "<style scoped>\n",
       "    .dataframe tbody tr th:only-of-type {\n",
       "        vertical-align: middle;\n",
       "    }\n",
       "\n",
       "    .dataframe tbody tr th {\n",
       "        vertical-align: top;\n",
       "    }\n",
       "\n",
       "    .dataframe thead th {\n",
       "        text-align: right;\n",
       "    }\n",
       "</style>\n",
       "<table border=\"1\" class=\"dataframe\">\n",
       "  <thead>\n",
       "    <tr style=\"text-align: right;\">\n",
       "      <th></th>\n",
       "      <th>a</th>\n",
       "      <th>b</th>\n",
       "      <th>c</th>\n",
       "    </tr>\n",
       "  </thead>\n",
       "  <tbody>\n",
       "    <tr>\n",
       "      <th>0</th>\n",
       "      <td>0</td>\n",
       "      <td>NaN</td>\n",
       "      <td>5</td>\n",
       "    </tr>\n",
       "    <tr>\n",
       "      <th>1</th>\n",
       "      <td>2</td>\n",
       "      <td>6.0</td>\n",
       "      <td>6</td>\n",
       "    </tr>\n",
       "    <tr>\n",
       "      <th>2</th>\n",
       "      <td>3</td>\n",
       "      <td>8.0</td>\n",
       "      <td>8</td>\n",
       "    </tr>\n",
       "    <tr>\n",
       "      <th>3</th>\n",
       "      <td>0</td>\n",
       "      <td>7.0</td>\n",
       "      <td>9</td>\n",
       "    </tr>\n",
       "  </tbody>\n",
       "</table>\n",
       "</div>"
      ],
      "text/plain": [
       "   a    b  c\n",
       "0  0  NaN  5\n",
       "1  2  6.0  6\n",
       "2  3  8.0  8\n",
       "3  0  7.0  9"
      ]
     },
     "execution_count": 90,
     "metadata": {},
     "output_type": "execute_result"
    }
   ],
   "source": [
    "dd"
   ]
  },
  {
   "cell_type": "code",
   "execution_count": 91,
   "metadata": {},
   "outputs": [],
   "source": [
    "dd.loc[2, 'c'] = np.nan"
   ]
  },
  {
   "cell_type": "code",
   "execution_count": 92,
   "metadata": {},
   "outputs": [
    {
     "data": {
      "text/html": [
       "<div>\n",
       "<style scoped>\n",
       "    .dataframe tbody tr th:only-of-type {\n",
       "        vertical-align: middle;\n",
       "    }\n",
       "\n",
       "    .dataframe tbody tr th {\n",
       "        vertical-align: top;\n",
       "    }\n",
       "\n",
       "    .dataframe thead th {\n",
       "        text-align: right;\n",
       "    }\n",
       "</style>\n",
       "<table border=\"1\" class=\"dataframe\">\n",
       "  <thead>\n",
       "    <tr style=\"text-align: right;\">\n",
       "      <th></th>\n",
       "      <th>a</th>\n",
       "      <th>b</th>\n",
       "      <th>c</th>\n",
       "    </tr>\n",
       "  </thead>\n",
       "  <tbody>\n",
       "    <tr>\n",
       "      <th>0</th>\n",
       "      <td>0</td>\n",
       "      <td>NaN</td>\n",
       "      <td>5.0</td>\n",
       "    </tr>\n",
       "    <tr>\n",
       "      <th>1</th>\n",
       "      <td>2</td>\n",
       "      <td>6.0</td>\n",
       "      <td>6.0</td>\n",
       "    </tr>\n",
       "    <tr>\n",
       "      <th>2</th>\n",
       "      <td>3</td>\n",
       "      <td>8.0</td>\n",
       "      <td>NaN</td>\n",
       "    </tr>\n",
       "    <tr>\n",
       "      <th>3</th>\n",
       "      <td>0</td>\n",
       "      <td>7.0</td>\n",
       "      <td>9.0</td>\n",
       "    </tr>\n",
       "  </tbody>\n",
       "</table>\n",
       "</div>"
      ],
      "text/plain": [
       "   a    b    c\n",
       "0  0  NaN  5.0\n",
       "1  2  6.0  6.0\n",
       "2  3  8.0  NaN\n",
       "3  0  7.0  9.0"
      ]
     },
     "execution_count": 92,
     "metadata": {},
     "output_type": "execute_result"
    }
   ],
   "source": [
    "dd"
   ]
  },
  {
   "cell_type": "code",
   "execution_count": 93,
   "metadata": {},
   "outputs": [],
   "source": [
    "dd.loc[3, 'b'] = np.nan\n",
    "dd.loc[3, 'c'] = np.nan"
   ]
  },
  {
   "cell_type": "code",
   "execution_count": 94,
   "metadata": {},
   "outputs": [
    {
     "data": {
      "text/html": [
       "<div>\n",
       "<style scoped>\n",
       "    .dataframe tbody tr th:only-of-type {\n",
       "        vertical-align: middle;\n",
       "    }\n",
       "\n",
       "    .dataframe tbody tr th {\n",
       "        vertical-align: top;\n",
       "    }\n",
       "\n",
       "    .dataframe thead th {\n",
       "        text-align: right;\n",
       "    }\n",
       "</style>\n",
       "<table border=\"1\" class=\"dataframe\">\n",
       "  <thead>\n",
       "    <tr style=\"text-align: right;\">\n",
       "      <th></th>\n",
       "      <th>a</th>\n",
       "      <th>b</th>\n",
       "      <th>c</th>\n",
       "    </tr>\n",
       "  </thead>\n",
       "  <tbody>\n",
       "    <tr>\n",
       "      <th>0</th>\n",
       "      <td>0</td>\n",
       "      <td>NaN</td>\n",
       "      <td>5.0</td>\n",
       "    </tr>\n",
       "    <tr>\n",
       "      <th>1</th>\n",
       "      <td>2</td>\n",
       "      <td>6.0</td>\n",
       "      <td>6.0</td>\n",
       "    </tr>\n",
       "    <tr>\n",
       "      <th>2</th>\n",
       "      <td>3</td>\n",
       "      <td>8.0</td>\n",
       "      <td>NaN</td>\n",
       "    </tr>\n",
       "    <tr>\n",
       "      <th>3</th>\n",
       "      <td>0</td>\n",
       "      <td>NaN</td>\n",
       "      <td>NaN</td>\n",
       "    </tr>\n",
       "  </tbody>\n",
       "</table>\n",
       "</div>"
      ],
      "text/plain": [
       "   a    b    c\n",
       "0  0  NaN  5.0\n",
       "1  2  6.0  6.0\n",
       "2  3  8.0  NaN\n",
       "3  0  NaN  NaN"
      ]
     },
     "execution_count": 94,
     "metadata": {},
     "output_type": "execute_result"
    }
   ],
   "source": [
    "dd"
   ]
  },
  {
   "cell_type": "code",
   "execution_count": 95,
   "metadata": {},
   "outputs": [],
   "source": [
    "dd.loc[dd['b'].isnull(), 'b'] = dd['c']"
   ]
  },
  {
   "cell_type": "code",
   "execution_count": 96,
   "metadata": {},
   "outputs": [
    {
     "data": {
      "text/html": [
       "<div>\n",
       "<style scoped>\n",
       "    .dataframe tbody tr th:only-of-type {\n",
       "        vertical-align: middle;\n",
       "    }\n",
       "\n",
       "    .dataframe tbody tr th {\n",
       "        vertical-align: top;\n",
       "    }\n",
       "\n",
       "    .dataframe thead th {\n",
       "        text-align: right;\n",
       "    }\n",
       "</style>\n",
       "<table border=\"1\" class=\"dataframe\">\n",
       "  <thead>\n",
       "    <tr style=\"text-align: right;\">\n",
       "      <th></th>\n",
       "      <th>a</th>\n",
       "      <th>b</th>\n",
       "      <th>c</th>\n",
       "    </tr>\n",
       "  </thead>\n",
       "  <tbody>\n",
       "    <tr>\n",
       "      <th>0</th>\n",
       "      <td>0</td>\n",
       "      <td>5.0</td>\n",
       "      <td>5.0</td>\n",
       "    </tr>\n",
       "    <tr>\n",
       "      <th>1</th>\n",
       "      <td>2</td>\n",
       "      <td>6.0</td>\n",
       "      <td>6.0</td>\n",
       "    </tr>\n",
       "    <tr>\n",
       "      <th>2</th>\n",
       "      <td>3</td>\n",
       "      <td>8.0</td>\n",
       "      <td>NaN</td>\n",
       "    </tr>\n",
       "    <tr>\n",
       "      <th>3</th>\n",
       "      <td>0</td>\n",
       "      <td>NaN</td>\n",
       "      <td>NaN</td>\n",
       "    </tr>\n",
       "  </tbody>\n",
       "</table>\n",
       "</div>"
      ],
      "text/plain": [
       "   a    b    c\n",
       "0  0  5.0  5.0\n",
       "1  2  6.0  6.0\n",
       "2  3  8.0  NaN\n",
       "3  0  NaN  NaN"
      ]
     },
     "execution_count": 96,
     "metadata": {},
     "output_type": "execute_result"
    }
   ],
   "source": [
    "dd"
   ]
  },
  {
   "cell_type": "code",
   "execution_count": 97,
   "metadata": {},
   "outputs": [],
   "source": [
    "dd.loc[dd['c'].isnull(), 'c'] = dd['b']"
   ]
  },
  {
   "cell_type": "code",
   "execution_count": 98,
   "metadata": {},
   "outputs": [
    {
     "data": {
      "text/html": [
       "<div>\n",
       "<style scoped>\n",
       "    .dataframe tbody tr th:only-of-type {\n",
       "        vertical-align: middle;\n",
       "    }\n",
       "\n",
       "    .dataframe tbody tr th {\n",
       "        vertical-align: top;\n",
       "    }\n",
       "\n",
       "    .dataframe thead th {\n",
       "        text-align: right;\n",
       "    }\n",
       "</style>\n",
       "<table border=\"1\" class=\"dataframe\">\n",
       "  <thead>\n",
       "    <tr style=\"text-align: right;\">\n",
       "      <th></th>\n",
       "      <th>a</th>\n",
       "      <th>b</th>\n",
       "      <th>c</th>\n",
       "    </tr>\n",
       "  </thead>\n",
       "  <tbody>\n",
       "    <tr>\n",
       "      <th>0</th>\n",
       "      <td>0</td>\n",
       "      <td>5.0</td>\n",
       "      <td>5.0</td>\n",
       "    </tr>\n",
       "    <tr>\n",
       "      <th>1</th>\n",
       "      <td>2</td>\n",
       "      <td>6.0</td>\n",
       "      <td>6.0</td>\n",
       "    </tr>\n",
       "    <tr>\n",
       "      <th>2</th>\n",
       "      <td>3</td>\n",
       "      <td>8.0</td>\n",
       "      <td>8.0</td>\n",
       "    </tr>\n",
       "    <tr>\n",
       "      <th>3</th>\n",
       "      <td>0</td>\n",
       "      <td>NaN</td>\n",
       "      <td>NaN</td>\n",
       "    </tr>\n",
       "  </tbody>\n",
       "</table>\n",
       "</div>"
      ],
      "text/plain": [
       "   a    b    c\n",
       "0  0  5.0  5.0\n",
       "1  2  6.0  6.0\n",
       "2  3  8.0  8.0\n",
       "3  0  NaN  NaN"
      ]
     },
     "execution_count": 98,
     "metadata": {},
     "output_type": "execute_result"
    }
   ],
   "source": [
    "dd"
   ]
  },
  {
   "cell_type": "code",
   "execution_count": 99,
   "metadata": {},
   "outputs": [],
   "source": [
    "dd['d'] = dd['b'] - dd['c']"
   ]
  },
  {
   "cell_type": "code",
   "execution_count": 100,
   "metadata": {},
   "outputs": [
    {
     "data": {
      "text/html": [
       "<div>\n",
       "<style scoped>\n",
       "    .dataframe tbody tr th:only-of-type {\n",
       "        vertical-align: middle;\n",
       "    }\n",
       "\n",
       "    .dataframe tbody tr th {\n",
       "        vertical-align: top;\n",
       "    }\n",
       "\n",
       "    .dataframe thead th {\n",
       "        text-align: right;\n",
       "    }\n",
       "</style>\n",
       "<table border=\"1\" class=\"dataframe\">\n",
       "  <thead>\n",
       "    <tr style=\"text-align: right;\">\n",
       "      <th></th>\n",
       "      <th>a</th>\n",
       "      <th>b</th>\n",
       "      <th>c</th>\n",
       "      <th>d</th>\n",
       "    </tr>\n",
       "  </thead>\n",
       "  <tbody>\n",
       "    <tr>\n",
       "      <th>0</th>\n",
       "      <td>0</td>\n",
       "      <td>5.0</td>\n",
       "      <td>5.0</td>\n",
       "      <td>0.0</td>\n",
       "    </tr>\n",
       "    <tr>\n",
       "      <th>1</th>\n",
       "      <td>2</td>\n",
       "      <td>6.0</td>\n",
       "      <td>6.0</td>\n",
       "      <td>0.0</td>\n",
       "    </tr>\n",
       "    <tr>\n",
       "      <th>2</th>\n",
       "      <td>3</td>\n",
       "      <td>8.0</td>\n",
       "      <td>8.0</td>\n",
       "      <td>0.0</td>\n",
       "    </tr>\n",
       "    <tr>\n",
       "      <th>3</th>\n",
       "      <td>0</td>\n",
       "      <td>NaN</td>\n",
       "      <td>NaN</td>\n",
       "      <td>NaN</td>\n",
       "    </tr>\n",
       "  </tbody>\n",
       "</table>\n",
       "</div>"
      ],
      "text/plain": [
       "   a    b    c    d\n",
       "0  0  5.0  5.0  0.0\n",
       "1  2  6.0  6.0  0.0\n",
       "2  3  8.0  8.0  0.0\n",
       "3  0  NaN  NaN  NaN"
      ]
     },
     "execution_count": 100,
     "metadata": {},
     "output_type": "execute_result"
    }
   ],
   "source": [
    "dd"
   ]
  },
  {
   "cell_type": "code",
   "execution_count": 106,
   "metadata": {},
   "outputs": [],
   "source": [
    "freq = ['a','b', 'c', 'f', 'e']\n",
    "a = list(enumerate(freq))"
   ]
  },
  {
   "cell_type": "code",
   "execution_count": 109,
   "metadata": {},
   "outputs": [
    {
     "data": {
      "text/plain": [
       "0"
      ]
     },
     "execution_count": 109,
     "metadata": {},
     "output_type": "execute_result"
    }
   ],
   "source": [
    "a[0][0]"
   ]
  },
  {
   "cell_type": "code",
   "execution_count": 108,
   "metadata": {},
   "outputs": [
    {
     "data": {
      "text/plain": [
       "[(0, 'a'), (1, 'b'), (2, 'c'), (3, 'f'), (4, 'e')]"
      ]
     },
     "execution_count": 108,
     "metadata": {},
     "output_type": "execute_result"
    }
   ],
   "source": [
    "a"
   ]
  },
  {
   "cell_type": "code",
   "execution_count": 119,
   "metadata": {},
   "outputs": [],
   "source": [
    "df = pd.DataFrame(columns=[\"one\", \"two\"])\n",
    "\n",
    "\n",
    "df.one = [\"2030-01-24\",\"2019-01-27\"]\n",
    "df.one = pd.to_datetime(df.one)\n",
    "\n",
    "df.two = [\"2019-01-28\", \"2020-01-29\"]\n",
    "df.two = pd.to_datetime(df.two)"
   ]
  },
  {
   "cell_type": "code",
   "execution_count": 120,
   "metadata": {},
   "outputs": [
    {
     "data": {
      "text/html": [
       "<div>\n",
       "<style scoped>\n",
       "    .dataframe tbody tr th:only-of-type {\n",
       "        vertical-align: middle;\n",
       "    }\n",
       "\n",
       "    .dataframe tbody tr th {\n",
       "        vertical-align: top;\n",
       "    }\n",
       "\n",
       "    .dataframe thead th {\n",
       "        text-align: right;\n",
       "    }\n",
       "</style>\n",
       "<table border=\"1\" class=\"dataframe\">\n",
       "  <thead>\n",
       "    <tr style=\"text-align: right;\">\n",
       "      <th></th>\n",
       "      <th>one</th>\n",
       "      <th>two</th>\n",
       "    </tr>\n",
       "  </thead>\n",
       "  <tbody>\n",
       "    <tr>\n",
       "      <th>0</th>\n",
       "      <td>2030-01-24</td>\n",
       "      <td>2019-01-28</td>\n",
       "    </tr>\n",
       "    <tr>\n",
       "      <th>1</th>\n",
       "      <td>2019-01-27</td>\n",
       "      <td>2020-01-29</td>\n",
       "    </tr>\n",
       "  </tbody>\n",
       "</table>\n",
       "</div>"
      ],
      "text/plain": [
       "         one        two\n",
       "0 2030-01-24 2019-01-28\n",
       "1 2019-01-27 2020-01-29"
      ]
     },
     "execution_count": 120,
     "metadata": {},
     "output_type": "execute_result"
    }
   ],
   "source": [
    "df"
   ]
  },
  {
   "cell_type": "code",
   "execution_count": 121,
   "metadata": {},
   "outputs": [],
   "source": [
    "df['days'] = (df['two'] - df['one']).dt.days"
   ]
  },
  {
   "cell_type": "code",
   "execution_count": 122,
   "metadata": {},
   "outputs": [
    {
     "data": {
      "text/html": [
       "<div>\n",
       "<style scoped>\n",
       "    .dataframe tbody tr th:only-of-type {\n",
       "        vertical-align: middle;\n",
       "    }\n",
       "\n",
       "    .dataframe tbody tr th {\n",
       "        vertical-align: top;\n",
       "    }\n",
       "\n",
       "    .dataframe thead th {\n",
       "        text-align: right;\n",
       "    }\n",
       "</style>\n",
       "<table border=\"1\" class=\"dataframe\">\n",
       "  <thead>\n",
       "    <tr style=\"text-align: right;\">\n",
       "      <th></th>\n",
       "      <th>one</th>\n",
       "      <th>two</th>\n",
       "      <th>days</th>\n",
       "    </tr>\n",
       "  </thead>\n",
       "  <tbody>\n",
       "    <tr>\n",
       "      <th>0</th>\n",
       "      <td>2030-01-24</td>\n",
       "      <td>2019-01-28</td>\n",
       "      <td>-4014</td>\n",
       "    </tr>\n",
       "    <tr>\n",
       "      <th>1</th>\n",
       "      <td>2019-01-27</td>\n",
       "      <td>2020-01-29</td>\n",
       "      <td>367</td>\n",
       "    </tr>\n",
       "  </tbody>\n",
       "</table>\n",
       "</div>"
      ],
      "text/plain": [
       "         one        two  days\n",
       "0 2030-01-24 2019-01-28 -4014\n",
       "1 2019-01-27 2020-01-29   367"
      ]
     },
     "execution_count": 122,
     "metadata": {},
     "output_type": "execute_result"
    }
   ],
   "source": [
    "df"
   ]
  },
  {
   "cell_type": "code",
   "execution_count": 123,
   "metadata": {},
   "outputs": [],
   "source": [
    "df['years'] = (\n",
    "    (df['two'] - df['one']).dt.days)/365"
   ]
  },
  {
   "cell_type": "code",
   "execution_count": 124,
   "metadata": {},
   "outputs": [
    {
     "data": {
      "text/html": [
       "<div>\n",
       "<style scoped>\n",
       "    .dataframe tbody tr th:only-of-type {\n",
       "        vertical-align: middle;\n",
       "    }\n",
       "\n",
       "    .dataframe tbody tr th {\n",
       "        vertical-align: top;\n",
       "    }\n",
       "\n",
       "    .dataframe thead th {\n",
       "        text-align: right;\n",
       "    }\n",
       "</style>\n",
       "<table border=\"1\" class=\"dataframe\">\n",
       "  <thead>\n",
       "    <tr style=\"text-align: right;\">\n",
       "      <th></th>\n",
       "      <th>one</th>\n",
       "      <th>two</th>\n",
       "      <th>days</th>\n",
       "      <th>years</th>\n",
       "    </tr>\n",
       "  </thead>\n",
       "  <tbody>\n",
       "    <tr>\n",
       "      <th>0</th>\n",
       "      <td>2030-01-24</td>\n",
       "      <td>2019-01-28</td>\n",
       "      <td>-4014</td>\n",
       "      <td>-10.997260</td>\n",
       "    </tr>\n",
       "    <tr>\n",
       "      <th>1</th>\n",
       "      <td>2019-01-27</td>\n",
       "      <td>2020-01-29</td>\n",
       "      <td>367</td>\n",
       "      <td>1.005479</td>\n",
       "    </tr>\n",
       "  </tbody>\n",
       "</table>\n",
       "</div>"
      ],
      "text/plain": [
       "         one        two  days      years\n",
       "0 2030-01-24 2019-01-28 -4014 -10.997260\n",
       "1 2019-01-27 2020-01-29   367   1.005479"
      ]
     },
     "execution_count": 124,
     "metadata": {},
     "output_type": "execute_result"
    }
   ],
   "source": [
    "df"
   ]
  },
  {
   "cell_type": "code",
   "execution_count": 128,
   "metadata": {},
   "outputs": [
    {
     "data": {
      "text/html": [
       "<div>\n",
       "<style scoped>\n",
       "    .dataframe tbody tr th:only-of-type {\n",
       "        vertical-align: middle;\n",
       "    }\n",
       "\n",
       "    .dataframe tbody tr th {\n",
       "        vertical-align: top;\n",
       "    }\n",
       "\n",
       "    .dataframe thead th {\n",
       "        text-align: right;\n",
       "    }\n",
       "</style>\n",
       "<table border=\"1\" class=\"dataframe\">\n",
       "  <thead>\n",
       "    <tr style=\"text-align: right;\">\n",
       "      <th></th>\n",
       "      <th>left</th>\n",
       "      <th>right</th>\n",
       "      <th>gender</th>\n",
       "    </tr>\n",
       "  </thead>\n",
       "  <tbody>\n",
       "    <tr>\n",
       "      <th>1</th>\n",
       "      <td>24</td>\n",
       "      <td>27</td>\n",
       "      <td>male</td>\n",
       "    </tr>\n",
       "    <tr>\n",
       "      <th>2</th>\n",
       "      <td>22</td>\n",
       "      <td>22</td>\n",
       "      <td>female</td>\n",
       "    </tr>\n",
       "    <tr>\n",
       "      <th>3</th>\n",
       "      <td>37</td>\n",
       "      <td>39</td>\n",
       "      <td>male</td>\n",
       "    </tr>\n",
       "    <tr>\n",
       "      <th>4</th>\n",
       "      <td>20</td>\n",
       "      <td>20</td>\n",
       "      <td>male</td>\n",
       "    </tr>\n",
       "    <tr>\n",
       "      <th>5</th>\n",
       "      <td>1</td>\n",
       "      <td>16</td>\n",
       "      <td>male</td>\n",
       "    </tr>\n",
       "  </tbody>\n",
       "</table>\n",
       "</div>"
      ],
      "text/plain": [
       "   left  right  gender\n",
       "1    24     27    male\n",
       "2    22     22  female\n",
       "3    37     39    male\n",
       "4    20     20    male\n",
       "5     1     16    male"
      ]
     },
     "execution_count": 128,
     "metadata": {},
     "output_type": "execute_result"
    }
   ],
   "source": [
    "from lifelines.datasets import load_diabetes\n",
    "\n",
    "mice = load_diabetes()\n",
    "mice.head()"
   ]
  },
  {
   "cell_type": "code",
   "execution_count": 131,
   "metadata": {},
   "outputs": [],
   "source": [
    "mice['ev'] = 0\n",
    "\n",
    "mice.loc[mice['left'].eq(mice['right']), 'ev'] = 1"
   ]
  },
  {
   "cell_type": "code",
   "execution_count": 132,
   "metadata": {},
   "outputs": [
    {
     "data": {
      "text/html": [
       "<div>\n",
       "<style scoped>\n",
       "    .dataframe tbody tr th:only-of-type {\n",
       "        vertical-align: middle;\n",
       "    }\n",
       "\n",
       "    .dataframe tbody tr th {\n",
       "        vertical-align: top;\n",
       "    }\n",
       "\n",
       "    .dataframe thead th {\n",
       "        text-align: right;\n",
       "    }\n",
       "</style>\n",
       "<table border=\"1\" class=\"dataframe\">\n",
       "  <thead>\n",
       "    <tr style=\"text-align: right;\">\n",
       "      <th></th>\n",
       "      <th>left</th>\n",
       "      <th>right</th>\n",
       "      <th>gender</th>\n",
       "      <th>ev</th>\n",
       "    </tr>\n",
       "  </thead>\n",
       "  <tbody>\n",
       "    <tr>\n",
       "      <th>1</th>\n",
       "      <td>24</td>\n",
       "      <td>27</td>\n",
       "      <td>male</td>\n",
       "      <td>0</td>\n",
       "    </tr>\n",
       "    <tr>\n",
       "      <th>2</th>\n",
       "      <td>22</td>\n",
       "      <td>22</td>\n",
       "      <td>female</td>\n",
       "      <td>1</td>\n",
       "    </tr>\n",
       "    <tr>\n",
       "      <th>3</th>\n",
       "      <td>37</td>\n",
       "      <td>39</td>\n",
       "      <td>male</td>\n",
       "      <td>0</td>\n",
       "    </tr>\n",
       "    <tr>\n",
       "      <th>4</th>\n",
       "      <td>20</td>\n",
       "      <td>20</td>\n",
       "      <td>male</td>\n",
       "      <td>1</td>\n",
       "    </tr>\n",
       "    <tr>\n",
       "      <th>5</th>\n",
       "      <td>1</td>\n",
       "      <td>16</td>\n",
       "      <td>male</td>\n",
       "      <td>0</td>\n",
       "    </tr>\n",
       "  </tbody>\n",
       "</table>\n",
       "</div>"
      ],
      "text/plain": [
       "   left  right  gender  ev\n",
       "1    24     27    male   0\n",
       "2    22     22  female   1\n",
       "3    37     39    male   0\n",
       "4    20     20    male   1\n",
       "5     1     16    male   0"
      ]
     },
     "execution_count": 132,
     "metadata": {},
     "output_type": "execute_result"
    }
   ],
   "source": [
    "mice.head()"
   ]
  },
  {
   "cell_type": "code",
   "execution_count": 133,
   "metadata": {},
   "outputs": [
    {
     "data": {
      "text/plain": [
       "<lifelines.KaplanMeierFitter:\"NPMLE_estimate\", fitted with 731 total observations, 136 interval-censored observations>"
      ]
     },
     "execution_count": 133,
     "metadata": {},
     "output_type": "execute_result"
    }
   ],
   "source": [
    "from lifelines import KaplanMeierFitter\n",
    "\n",
    "km = KaplanMeierFitter()\n",
    "km.fit_interval_censoring(mice['left'], mice['right'], mice['ev'])"
   ]
  },
  {
   "cell_type": "code",
   "execution_count": 134,
   "metadata": {},
   "outputs": [
    {
     "data": {
      "text/plain": [
       "(731, 4)"
      ]
     },
     "execution_count": 134,
     "metadata": {},
     "output_type": "execute_result"
    }
   ],
   "source": [
    "mice.shape"
   ]
  },
  {
   "cell_type": "code",
   "execution_count": 135,
   "metadata": {},
   "outputs": [],
   "source": [
    "mice.to_csv(r'C:\\Users\\LENOVO\\Desktop\\Surv\\diabetes.csv')"
   ]
  },
  {
   "cell_type": "code",
   "execution_count": 2,
   "metadata": {},
   "outputs": [],
   "source": [
    "import pandas as pd"
   ]
  },
  {
   "cell_type": "code",
   "execution_count": 3,
   "metadata": {},
   "outputs": [],
   "source": [
    "trial = pd.read_csv(r'C:\\Users\\LENOVO\\Downloads\\trial_fnp2020-fincausal-task2 (1).csv', delimiter=';')\n",
    "practice = pd.read_csv(r'C:\\Users\\LENOVO\\Downloads\\practice_fnp2020-fincausal-task2.csv', delimiter = ';')"
   ]
  },
  {
   "cell_type": "code",
   "execution_count": 4,
   "metadata": {},
   "outputs": [
    {
     "data": {
      "text/plain": [
       "(641, 11)"
      ]
     },
     "execution_count": 4,
     "metadata": {},
     "output_type": "execute_result"
    }
   ],
   "source": [
    "trial.shape"
   ]
  },
  {
   "cell_type": "code",
   "execution_count": 5,
   "metadata": {},
   "outputs": [
    {
     "data": {
      "text/plain": [
       "(1752, 11)"
      ]
     },
     "execution_count": 5,
     "metadata": {},
     "output_type": "execute_result"
    }
   ],
   "source": [
    "practice.shape"
   ]
  },
  {
   "cell_type": "code",
   "execution_count": 8,
   "metadata": {},
   "outputs": [],
   "source": [
    "train_all = pd.concat([trial, practice], axis=0)"
   ]
  },
  {
   "cell_type": "code",
   "execution_count": 9,
   "metadata": {},
   "outputs": [
    {
     "data": {
      "text/plain": [
       "(2393, 11)"
      ]
     },
     "execution_count": 9,
     "metadata": {},
     "output_type": "execute_result"
    }
   ],
   "source": [
    "train_all.shape"
   ]
  },
  {
   "cell_type": "code",
   "execution_count": 10,
   "metadata": {},
   "outputs": [
    {
     "data": {
      "text/html": [
       "<div>\n",
       "<style scoped>\n",
       "    .dataframe tbody tr th:only-of-type {\n",
       "        vertical-align: middle;\n",
       "    }\n",
       "\n",
       "    .dataframe tbody tr th {\n",
       "        vertical-align: top;\n",
       "    }\n",
       "\n",
       "    .dataframe thead th {\n",
       "        text-align: right;\n",
       "    }\n",
       "</style>\n",
       "<table border=\"1\" class=\"dataframe\">\n",
       "  <thead>\n",
       "    <tr style=\"text-align: right;\">\n",
       "      <th></th>\n",
       "      <th>Index</th>\n",
       "      <th>Text</th>\n",
       "      <th>Cause</th>\n",
       "      <th>Effect</th>\n",
       "      <th>Offset_Sentence2</th>\n",
       "      <th>Offset_Sentence3</th>\n",
       "      <th>Cause_Start</th>\n",
       "      <th>Cause_End</th>\n",
       "      <th>Effect_Start</th>\n",
       "      <th>Effect_End</th>\n",
       "      <th>Sentence</th>\n",
       "    </tr>\n",
       "  </thead>\n",
       "  <tbody>\n",
       "    <tr>\n",
       "      <th>0</th>\n",
       "      <td>0001.00026</td>\n",
       "      <td>It found that total U.S. health care spending...</td>\n",
       "      <td>Part of the reason is that Medicare for All w...</td>\n",
       "      <td>It found that total U.S. health care spending...</td>\n",
       "      <td>162</td>\n",
       "      <td></td>\n",
       "      <td>163.0</td>\n",
       "      <td>321.0</td>\n",
       "      <td>0.0</td>\n",
       "      <td>162.0</td>\n",
       "      <td>&lt;e2&gt;It found that total U.S. health care spen...</td>\n",
       "    </tr>\n",
       "    <tr>\n",
       "      <th>1</th>\n",
       "      <td>0003.00001</td>\n",
       "      <td>Transat loss more than doubles as it works to...</td>\n",
       "      <td>it works to complete Air Canada deal</td>\n",
       "      <td>Transat loss more than doubles</td>\n",
       "      <td></td>\n",
       "      <td></td>\n",
       "      <td>34.0</td>\n",
       "      <td>70.0</td>\n",
       "      <td>0.0</td>\n",
       "      <td>30.0</td>\n",
       "      <td>&lt;e2&gt;Transat loss more than doubles&lt;/e2&gt; as &lt;e...</td>\n",
       "    </tr>\n",
       "    <tr>\n",
       "      <th>2</th>\n",
       "      <td>0003.00002</td>\n",
       "      <td>MONTREAL  -  Transat AT Inc.'s third-quarter ...</td>\n",
       "      <td>the tour operator worked to complete its take...</td>\n",
       "      <td>Transat AT Inc.'s third-quarter net loss more...</td>\n",
       "      <td></td>\n",
       "      <td></td>\n",
       "      <td>104.0</td>\n",
       "      <td>168.0</td>\n",
       "      <td>13.0</td>\n",
       "      <td>100.0</td>\n",
       "      <td>MONTREAL  -  &lt;e2&gt;Transat AT Inc.'s third-quar...</td>\n",
       "    </tr>\n",
       "    <tr>\n",
       "      <th>3</th>\n",
       "      <td>0003.00003</td>\n",
       "      <td>The Montreal-based company lost $11.0 million...</td>\n",
       "      <td>The push to close Transat's sale to Air Canad...</td>\n",
       "      <td>The Montreal-based company lost $11.0 million...</td>\n",
       "      <td>123</td>\n",
       "      <td></td>\n",
       "      <td>124.0</td>\n",
       "      <td>335.0</td>\n",
       "      <td>0.0</td>\n",
       "      <td>123.0</td>\n",
       "      <td>&lt;e2&gt;The Montreal-based company lost $11.0 mil...</td>\n",
       "    </tr>\n",
       "    <tr>\n",
       "      <th>4</th>\n",
       "      <td>0003.00007</td>\n",
       "      <td>Transatlantic passenger traffic  -  key in th...</td>\n",
       "      <td>help boost revenue to $698.9 million, up from...</td>\n",
       "      <td>Transatlantic passenger traffic  -  key in th...</td>\n",
       "      <td></td>\n",
       "      <td></td>\n",
       "      <td>177.0</td>\n",
       "      <td>253.0</td>\n",
       "      <td>0.0</td>\n",
       "      <td>173.0</td>\n",
       "      <td>&lt;e2&gt;Transatlantic passenger traffic  -  key i...</td>\n",
       "    </tr>\n",
       "  </tbody>\n",
       "</table>\n",
       "</div>"
      ],
      "text/plain": [
       "        Index                                               Text  \\\n",
       "0  0001.00026   It found that total U.S. health care spending...   \n",
       "1  0003.00001   Transat loss more than doubles as it works to...   \n",
       "2  0003.00002   MONTREAL  -  Transat AT Inc.'s third-quarter ...   \n",
       "3  0003.00003   The Montreal-based company lost $11.0 million...   \n",
       "4  0003.00007   Transatlantic passenger traffic  -  key in th...   \n",
       "\n",
       "                                               Cause  \\\n",
       "0   Part of the reason is that Medicare for All w...   \n",
       "1               it works to complete Air Canada deal   \n",
       "2   the tour operator worked to complete its take...   \n",
       "3   The push to close Transat's sale to Air Canad...   \n",
       "4   help boost revenue to $698.9 million, up from...   \n",
       "\n",
       "                                              Effect  Offset_Sentence2  \\\n",
       "0   It found that total U.S. health care spending...               162   \n",
       "1                     Transat loss more than doubles                     \n",
       "2   Transat AT Inc.'s third-quarter net loss more...                     \n",
       "3   The Montreal-based company lost $11.0 million...               123   \n",
       "4   Transatlantic passenger traffic  -  key in th...                     \n",
       "\n",
       "   Offset_Sentence3   Cause_Start   Cause_End   Effect_Start   Effect_End  \\\n",
       "0                           163.0       321.0            0.0        162.0   \n",
       "1                            34.0        70.0            0.0         30.0   \n",
       "2                           104.0       168.0           13.0        100.0   \n",
       "3                           124.0       335.0            0.0        123.0   \n",
       "4                           177.0       253.0            0.0        173.0   \n",
       "\n",
       "                                            Sentence  \n",
       "0   <e2>It found that total U.S. health care spen...  \n",
       "1   <e2>Transat loss more than doubles</e2> as <e...  \n",
       "2   MONTREAL  -  <e2>Transat AT Inc.'s third-quar...  \n",
       "3   <e2>The Montreal-based company lost $11.0 mil...  \n",
       "4   <e2>Transatlantic passenger traffic  -  key i...  "
      ]
     },
     "execution_count": 10,
     "metadata": {},
     "output_type": "execute_result"
    }
   ],
   "source": [
    "train_all.head()"
   ]
  },
  {
   "cell_type": "code",
   "execution_count": 11,
   "metadata": {},
   "outputs": [],
   "source": [
    "train_all.to_csv(r'C:\\Users\\LENOVO\\Desktop\\FinCausal-2020-master\\train_all.csv')"
   ]
  },
  {
   "cell_type": "code",
   "execution_count": 12,
   "metadata": {},
   "outputs": [],
   "source": [
    "from lifelines.datasets import load_dd, load_diabetes, load_canadian_senators"
   ]
  },
  {
   "cell_type": "code",
   "execution_count": 13,
   "metadata": {},
   "outputs": [],
   "source": [
    "turn = pd.read_csv(r'C:\\Users\\LENOVO\\Desktop\\Surv\\turnover.csv')"
   ]
  },
  {
   "cell_type": "code",
   "execution_count": 14,
   "metadata": {},
   "outputs": [],
   "source": [
    "dd = load_dd()\n",
    "diabetes = load_diabetes()\n",
    "senator = load_canadian_senators()"
   ]
  },
  {
   "cell_type": "code",
   "execution_count": 16,
   "metadata": {},
   "outputs": [
    {
     "name": "stdout",
     "output_type": "stream",
     "text": [
      "(1808, 12) (731, 3) (933, 10) (1129, 16)\n"
     ]
    }
   ],
   "source": [
    "print(dd.shape, diabetes.shape, senator.shape, turn.shape)"
   ]
  },
  {
   "cell_type": "code",
   "execution_count": 17,
   "metadata": {},
   "outputs": [
    {
     "name": "stdout",
     "output_type": "stream",
     "text": [
      "Collecting table-evaluator\n",
      "  Downloading table-evaluator-1.2.2.post1.tar.gz (18 kB)\n",
      "Requirement already satisfied: pandas in c:\\users\\lenovo\\anaconda3-new\\lib\\site-packages (from table-evaluator) (1.1.2)\n",
      "Requirement already satisfied: numpy in c:\\users\\lenovo\\anaconda3-new\\lib\\site-packages (from table-evaluator) (1.19.2)\n",
      "Requirement already satisfied: tqdm in c:\\users\\lenovo\\anaconda3-new\\lib\\site-packages (from table-evaluator) (4.48.2)\n",
      "Requirement already satisfied: psutil in c:\\users\\lenovo\\anaconda3-new\\lib\\site-packages (from table-evaluator) (5.7.2)\n",
      "Collecting dython==0.5.1\n",
      "  Downloading dython-0.5.1-py3-none-any.whl (14 kB)\n",
      "Requirement already satisfied: seaborn in c:\\users\\lenovo\\anaconda3-new\\lib\\site-packages (from table-evaluator) (0.11.0)\n",
      "Requirement already satisfied: matplotlib in c:\\users\\lenovo\\anaconda3-new\\lib\\site-packages (from table-evaluator) (3.3.2)\n",
      "Requirement already satisfied: scikit-learn in c:\\users\\lenovo\\anaconda3-new\\lib\\site-packages (from table-evaluator) (0.23.2)\n",
      "Requirement already satisfied: scipy in c:\\users\\lenovo\\anaconda3-new\\lib\\site-packages (from table-evaluator) (1.5.2)\n",
      "Requirement already satisfied: pyparsing!=2.0.4,!=2.1.2,!=2.1.6,>=2.0.3 in c:\\users\\lenovo\\anaconda3-new\\lib\\site-packages (from matplotlib->table-evaluator) (2.4.7)\n",
      "Requirement already satisfied: kiwisolver>=1.0.1 in c:\\users\\lenovo\\anaconda3-new\\lib\\site-packages (from matplotlib->table-evaluator) (1.3.0)\n",
      "Requirement already satisfied: python-dateutil>=2.1 in c:\\users\\lenovo\\anaconda3-new\\lib\\site-packages (from matplotlib->table-evaluator) (2.8.1)\n",
      "Requirement already satisfied: certifi>=2020.06.20 in c:\\users\\lenovo\\anaconda3-new\\lib\\site-packages (from matplotlib->table-evaluator) (2020.6.20)\n",
      "Requirement already satisfied: cycler>=0.10 in c:\\users\\lenovo\\anaconda3-new\\lib\\site-packages (from matplotlib->table-evaluator) (0.10.0)\n",
      "Requirement already satisfied: pillow>=6.2.0 in c:\\users\\lenovo\\anaconda3-new\\lib\\site-packages (from matplotlib->table-evaluator) (8.0.1)\n",
      "Requirement already satisfied: six in c:\\users\\lenovo\\anaconda3-new\\lib\\site-packages (from cycler>=0.10->matplotlib->table-evaluator) (1.15.0)\n",
      "Requirement already satisfied: pytz>=2017.2 in c:\\users\\lenovo\\anaconda3-new\\lib\\site-packages (from pandas->table-evaluator) (2020.1)\n",
      "Requirement already satisfied: threadpoolctl>=2.0.0 in c:\\users\\lenovo\\anaconda3-new\\lib\\site-packages (from scikit-learn->table-evaluator) (2.1.0)\n",
      "Requirement already satisfied: joblib>=0.11 in c:\\users\\lenovo\\anaconda3-new\\lib\\site-packages (from scikit-learn->table-evaluator) (0.16.0)\n",
      "Building wheels for collected packages: table-evaluator\n",
      "  Building wheel for table-evaluator (setup.py): started\n",
      "  Building wheel for table-evaluator (setup.py): finished with status 'done'\n",
      "  Created wheel for table-evaluator: filename=table_evaluator-1.2.2.post1-py3-none-any.whl size=17056 sha256=b69a00761c59ce7f8dd2abacc08c5563cc81cda8e3d48734520cb4c918f54136\n",
      "  Stored in directory: c:\\users\\lenovo\\appdata\\local\\pip\\cache\\wheels\\37\\6c\\2b\\4b4c57a2f15a52b6f02b04835d9106e207a0534c868a072b66\n",
      "Successfully built table-evaluator\n",
      "Installing collected packages: dython, table-evaluator\n",
      "Successfully installed dython-0.5.1 table-evaluator-1.2.2.post1\n"
     ]
    },
    {
     "name": "stderr",
     "output_type": "stream",
     "text": [
      "WARNING: You are using pip version 21.1.2; however, version 21.1.3 is available.\n",
      "You should consider upgrading via the 'c:\\users\\lenovo\\anaconda3-new\\python.exe -m pip install --upgrade pip' command.\n"
     ]
    },
    {
     "name": "stdout",
     "output_type": "stream",
     "text": [
      "Collecting ctgan\n",
      "  Downloading ctgan-0.4.3-py2.py3-none-any.whl (21 kB)\n",
      "Requirement already satisfied: torch<2,>=1.4 in c:\\users\\lenovo\\anaconda3-new\\lib\\site-packages (from ctgan) (1.7.1)\n",
      "Requirement already satisfied: packaging in c:\\users\\lenovo\\anaconda3-new\\lib\\site-packages (from ctgan) (20.4)\n",
      "Requirement already satisfied: torchvision<1,>=0.5.0 in c:\\users\\lenovo\\anaconda3-new\\lib\\site-packages (from ctgan) (0.5.0)\n",
      "Requirement already satisfied: pandas<1.1.5,>=1.1 in c:\\users\\lenovo\\anaconda3-new\\lib\\site-packages (from ctgan) (1.1.2)\n",
      "Collecting rdt<0.6,>=0.5.0\n",
      "  Downloading rdt-0.5.0-py2.py3-none-any.whl (22 kB)\n",
      "Requirement already satisfied: numpy<2,>=1.18.0 in c:\\users\\lenovo\\anaconda3-new\\lib\\site-packages (from ctgan) (1.19.2)\n",
      "Requirement already satisfied: scikit-learn<1,>=0.23 in c:\\users\\lenovo\\anaconda3-new\\lib\\site-packages (from ctgan) (0.23.2)\n",
      "Requirement already satisfied: pytz>=2017.2 in c:\\users\\lenovo\\anaconda3-new\\lib\\site-packages (from pandas<1.1.5,>=1.1->ctgan) (2020.1)\n",
      "Requirement already satisfied: python-dateutil>=2.7.3 in c:\\users\\lenovo\\anaconda3-new\\lib\\site-packages (from pandas<1.1.5,>=1.1->ctgan) (2.8.1)\n",
      "Requirement already satisfied: six>=1.5 in c:\\users\\lenovo\\anaconda3-new\\lib\\site-packages (from python-dateutil>=2.7.3->pandas<1.1.5,>=1.1->ctgan) (1.15.0)\n",
      "Requirement already satisfied: scipy<2,>=1.4.1 in c:\\users\\lenovo\\anaconda3-new\\lib\\site-packages (from rdt<0.6,>=0.5.0->ctgan) (1.5.2)\n",
      "Requirement already satisfied: threadpoolctl>=2.0.0 in c:\\users\\lenovo\\anaconda3-new\\lib\\site-packages (from scikit-learn<1,>=0.23->ctgan) (2.1.0)\n",
      "Requirement already satisfied: joblib>=0.11 in c:\\users\\lenovo\\anaconda3-new\\lib\\site-packages (from scikit-learn<1,>=0.23->ctgan) (0.16.0)\n",
      "Requirement already satisfied: typing-extensions in c:\\users\\lenovo\\anaconda3-new\\lib\\site-packages (from torch<2,>=1.4->ctgan) (3.7.4.3)\n",
      "Collecting torchvision<1,>=0.5.0\n",
      "  Downloading torchvision-0.10.0-cp38-cp38-win_amd64.whl (920 kB)\n",
      "Collecting torch<2,>=1.4\n",
      "  Downloading torch-1.9.0-cp38-cp38-win_amd64.whl (222.0 MB)\n",
      "Requirement already satisfied: pillow>=5.3.0 in c:\\users\\lenovo\\anaconda3-new\\lib\\site-packages (from torchvision<1,>=0.5.0->ctgan) (8.0.1)\n",
      "Requirement already satisfied: pyparsing>=2.0.2 in c:\\users\\lenovo\\anaconda3-new\\lib\\site-packages (from packaging->ctgan) (2.4.7)\n",
      "Installing collected packages: torch, torchvision, rdt, ctgan\n",
      "  Attempting uninstall: torch\n",
      "    Found existing installation: torch 1.7.1\n",
      "    Uninstalling torch-1.7.1:\n",
      "      Successfully uninstalled torch-1.7.1\n",
      "  Attempting uninstall: torchvision\n",
      "    Found existing installation: torchvision 0.5.0\n",
      "    Uninstalling torchvision-0.5.0:\n",
      "      Successfully uninstalled torchvision-0.5.0\n",
      "Successfully installed ctgan-0.4.3 rdt-0.5.0 torch-1.9.0 torchvision-0.10.0\n"
     ]
    },
    {
     "name": "stderr",
     "output_type": "stream",
     "text": [
      "WARNING: You are using pip version 21.1.2; however, version 21.1.3 is available.\n",
      "You should consider upgrading via the 'c:\\users\\lenovo\\anaconda3-new\\python.exe -m pip install --upgrade pip' command.\n"
     ]
    }
   ],
   "source": [
    "!pip install table-evaluator\n",
    "!pip install ctgan"
   ]
  },
  {
   "cell_type": "code",
   "execution_count": 29,
   "metadata": {},
   "outputs": [],
   "source": [
    "from ctgan import CTGANSynthesizer\n",
    "discrete_columns = [col for col in diabetes.columns] \n",
    "ctgan = CTGANSynthesizer(epochs=100)\n",
    "ctgan.fit(diabetes, discrete_columns, epochs=100)\n",
    "\n",
    "synthetic_data = ctgan.sample(100)"
   ]
  },
  {
   "cell_type": "code",
   "execution_count": 30,
   "metadata": {},
   "outputs": [
    {
     "name": "stdout",
     "output_type": "stream",
     "text": [
      "\n",
      "Correlation metric: pearsonr\n"
     ]
    },
    {
     "ename": "ValueError",
     "evalue": "Unknown label type: 'unknown'",
     "output_type": "error",
     "traceback": [
      "\u001b[1;31m---------------------------------------------------------------------------\u001b[0m",
      "\u001b[1;31mValueError\u001b[0m                                Traceback (most recent call last)",
      "\u001b[1;32m<ipython-input-30-fd21578b5502>\u001b[0m in \u001b[0;36m<module>\u001b[1;34m\u001b[0m\n\u001b[0;32m      2\u001b[0m \u001b[0mtable_evaluator\u001b[0m \u001b[1;33m=\u001b[0m \u001b[0mTableEvaluator\u001b[0m\u001b[1;33m(\u001b[0m\u001b[0mdiabetes\u001b[0m\u001b[1;33m,\u001b[0m \u001b[0msynthetic_data\u001b[0m\u001b[1;33m)\u001b[0m\u001b[1;33m\u001b[0m\u001b[1;33m\u001b[0m\u001b[0m\n\u001b[0;32m      3\u001b[0m \u001b[1;32mfor\u001b[0m \u001b[0mcol\u001b[0m \u001b[1;32min\u001b[0m \u001b[0mdiabetes\u001b[0m\u001b[1;33m.\u001b[0m\u001b[0mcolumns\u001b[0m\u001b[1;33m:\u001b[0m\u001b[1;33m\u001b[0m\u001b[1;33m\u001b[0m\u001b[0m\n\u001b[1;32m----> 4\u001b[1;33m     \u001b[0mprint\u001b[0m\u001b[1;33m(\u001b[0m\u001b[0mtable_evaluator\u001b[0m\u001b[1;33m.\u001b[0m\u001b[0mevaluate\u001b[0m\u001b[1;33m(\u001b[0m\u001b[0mtarget_col\u001b[0m\u001b[1;33m=\u001b[0m\u001b[0mcol\u001b[0m\u001b[1;33m)\u001b[0m\u001b[1;33m)\u001b[0m\u001b[1;33m\u001b[0m\u001b[1;33m\u001b[0m\u001b[0m\n\u001b[0m",
      "\u001b[1;32m~\\anaconda3-new\\lib\\site-packages\\table_evaluator\\table_evaluator.py\u001b[0m in \u001b[0;36mevaluate\u001b[1;34m(self, target_col, target_type, metric, verbose, n_samples_distance)\u001b[0m\n\u001b[0;32m    588\u001b[0m         \u001b[0mcorrelation_correlation\u001b[0m \u001b[1;33m=\u001b[0m \u001b[0mself\u001b[0m\u001b[1;33m.\u001b[0m\u001b[0mcorrelation_correlation\u001b[0m\u001b[1;33m(\u001b[0m\u001b[1;33m)\u001b[0m\u001b[1;33m\u001b[0m\u001b[1;33m\u001b[0m\u001b[0m\n\u001b[0;32m    589\u001b[0m         \u001b[0mcolumn_correlation\u001b[0m \u001b[1;33m=\u001b[0m \u001b[0mself\u001b[0m\u001b[1;33m.\u001b[0m\u001b[0mcolumn_correlations\u001b[0m\u001b[1;33m(\u001b[0m\u001b[1;33m)\u001b[0m\u001b[1;33m\u001b[0m\u001b[1;33m\u001b[0m\u001b[0m\n\u001b[1;32m--> 590\u001b[1;33m         \u001b[0mestimators\u001b[0m \u001b[1;33m=\u001b[0m \u001b[0mself\u001b[0m\u001b[1;33m.\u001b[0m\u001b[0mestimator_evaluation\u001b[0m\u001b[1;33m(\u001b[0m\u001b[0mtarget_col\u001b[0m\u001b[1;33m=\u001b[0m\u001b[0mtarget_col\u001b[0m\u001b[1;33m,\u001b[0m \u001b[0mtarget_type\u001b[0m\u001b[1;33m=\u001b[0m\u001b[0mtarget_type\u001b[0m\u001b[1;33m)\u001b[0m\u001b[1;33m\u001b[0m\u001b[1;33m\u001b[0m\u001b[0m\n\u001b[0m\u001b[0;32m    591\u001b[0m         \u001b[0mpca_variance\u001b[0m \u001b[1;33m=\u001b[0m \u001b[0mself\u001b[0m\u001b[1;33m.\u001b[0m\u001b[0mpca_correlation\u001b[0m\u001b[1;33m(\u001b[0m\u001b[1;33m)\u001b[0m\u001b[1;33m\u001b[0m\u001b[1;33m\u001b[0m\u001b[0m\n\u001b[0;32m    592\u001b[0m         \u001b[0mnearest_neighbor\u001b[0m \u001b[1;33m=\u001b[0m \u001b[0mself\u001b[0m\u001b[1;33m.\u001b[0m\u001b[0mrow_distance\u001b[0m\u001b[1;33m(\u001b[0m\u001b[0mn_samples\u001b[0m\u001b[1;33m=\u001b[0m\u001b[0mn_samples_distance\u001b[0m\u001b[1;33m)\u001b[0m\u001b[1;33m\u001b[0m\u001b[1;33m\u001b[0m\u001b[0m\n",
      "\u001b[1;32m~\\anaconda3-new\\lib\\site-packages\\table_evaluator\\table_evaluator.py\u001b[0m in \u001b[0;36mestimator_evaluation\u001b[1;34m(self, target_col, target_type)\u001b[0m\n\u001b[0;32m    509\u001b[0m             \u001b[1;32massert\u001b[0m \u001b[0mhasattr\u001b[0m\u001b[1;33m(\u001b[0m\u001b[0mestimator\u001b[0m\u001b[1;33m,\u001b[0m \u001b[1;34m'score'\u001b[0m\u001b[1;33m)\u001b[0m\u001b[1;33m\u001b[0m\u001b[1;33m\u001b[0m\u001b[0m\n\u001b[0;32m    510\u001b[0m \u001b[1;33m\u001b[0m\u001b[0m\n\u001b[1;32m--> 511\u001b[1;33m         \u001b[0mself\u001b[0m\u001b[1;33m.\u001b[0m\u001b[0mfit_estimators\u001b[0m\u001b[1;33m(\u001b[0m\u001b[1;33m)\u001b[0m\u001b[1;33m\u001b[0m\u001b[1;33m\u001b[0m\u001b[0m\n\u001b[0m\u001b[0;32m    512\u001b[0m         \u001b[0mself\u001b[0m\u001b[1;33m.\u001b[0m\u001b[0mestimators_scores\u001b[0m \u001b[1;33m=\u001b[0m \u001b[0mself\u001b[0m\u001b[1;33m.\u001b[0m\u001b[0mscore_estimators\u001b[0m\u001b[1;33m(\u001b[0m\u001b[1;33m)\u001b[0m\u001b[1;33m\u001b[0m\u001b[1;33m\u001b[0m\u001b[0m\n\u001b[0;32m    513\u001b[0m         \u001b[0mprint\u001b[0m\u001b[1;33m(\u001b[0m\u001b[1;34m'\\nClassifier F1-scores and their Jaccard similarities:'\u001b[0m\u001b[1;33m)\u001b[0m \u001b[1;32mif\u001b[0m \u001b[0mself\u001b[0m\u001b[1;33m.\u001b[0m\u001b[0mtarget_type\u001b[0m \u001b[1;33m==\u001b[0m \u001b[1;34m'class'\u001b[0m\u001b[0;31m \u001b[0m\u001b[0;31m\\\u001b[0m\u001b[1;33m\u001b[0m\u001b[1;33m\u001b[0m\u001b[0m\n",
      "\u001b[1;32m~\\anaconda3-new\\lib\\site-packages\\table_evaluator\\table_evaluator.py\u001b[0m in \u001b[0;36mfit_estimators\u001b[1;34m(self)\u001b[0m\n\u001b[0;32m    317\u001b[0m             \u001b[1;32mif\u001b[0m \u001b[0mself\u001b[0m\u001b[1;33m.\u001b[0m\u001b[0mverbose\u001b[0m\u001b[1;33m:\u001b[0m\u001b[1;33m\u001b[0m\u001b[1;33m\u001b[0m\u001b[0m\n\u001b[0;32m    318\u001b[0m                 \u001b[0mprint\u001b[0m\u001b[1;33m(\u001b[0m\u001b[1;34mf'{i + 1}: {type(c).__name__}'\u001b[0m\u001b[1;33m)\u001b[0m\u001b[1;33m\u001b[0m\u001b[1;33m\u001b[0m\u001b[0m\n\u001b[1;32m--> 319\u001b[1;33m             \u001b[0mc\u001b[0m\u001b[1;33m.\u001b[0m\u001b[0mfit\u001b[0m\u001b[1;33m(\u001b[0m\u001b[0mself\u001b[0m\u001b[1;33m.\u001b[0m\u001b[0mfake_x_train\u001b[0m\u001b[1;33m,\u001b[0m \u001b[0mself\u001b[0m\u001b[1;33m.\u001b[0m\u001b[0mfake_y_train\u001b[0m\u001b[1;33m)\u001b[0m\u001b[1;33m\u001b[0m\u001b[1;33m\u001b[0m\u001b[0m\n\u001b[0m\u001b[0;32m    320\u001b[0m \u001b[1;33m\u001b[0m\u001b[0m\n\u001b[0;32m    321\u001b[0m     \u001b[1;32mdef\u001b[0m \u001b[0mscore_estimators\u001b[0m\u001b[1;33m(\u001b[0m\u001b[0mself\u001b[0m\u001b[1;33m)\u001b[0m\u001b[1;33m:\u001b[0m\u001b[1;33m\u001b[0m\u001b[1;33m\u001b[0m\u001b[0m\n",
      "\u001b[1;32m~\\anaconda3-new\\lib\\site-packages\\sklearn\\linear_model\\_logistic.py\u001b[0m in \u001b[0;36mfit\u001b[1;34m(self, X, y, sample_weight)\u001b[0m\n\u001b[0;32m   1343\u001b[0m                                    \u001b[0morder\u001b[0m\u001b[1;33m=\u001b[0m\u001b[1;34m\"C\"\u001b[0m\u001b[1;33m,\u001b[0m\u001b[1;33m\u001b[0m\u001b[1;33m\u001b[0m\u001b[0m\n\u001b[0;32m   1344\u001b[0m                                    accept_large_sparse=solver != 'liblinear')\n\u001b[1;32m-> 1345\u001b[1;33m         \u001b[0mcheck_classification_targets\u001b[0m\u001b[1;33m(\u001b[0m\u001b[0my\u001b[0m\u001b[1;33m)\u001b[0m\u001b[1;33m\u001b[0m\u001b[1;33m\u001b[0m\u001b[0m\n\u001b[0m\u001b[0;32m   1346\u001b[0m         \u001b[0mself\u001b[0m\u001b[1;33m.\u001b[0m\u001b[0mclasses_\u001b[0m \u001b[1;33m=\u001b[0m \u001b[0mnp\u001b[0m\u001b[1;33m.\u001b[0m\u001b[0munique\u001b[0m\u001b[1;33m(\u001b[0m\u001b[0my\u001b[0m\u001b[1;33m)\u001b[0m\u001b[1;33m\u001b[0m\u001b[1;33m\u001b[0m\u001b[0m\n\u001b[0;32m   1347\u001b[0m \u001b[1;33m\u001b[0m\u001b[0m\n",
      "\u001b[1;32m~\\anaconda3-new\\lib\\site-packages\\sklearn\\utils\\multiclass.py\u001b[0m in \u001b[0;36mcheck_classification_targets\u001b[1;34m(y)\u001b[0m\n\u001b[0;32m    170\u001b[0m     if y_type not in ['binary', 'multiclass', 'multiclass-multioutput',\n\u001b[0;32m    171\u001b[0m                       'multilabel-indicator', 'multilabel-sequences']:\n\u001b[1;32m--> 172\u001b[1;33m         \u001b[1;32mraise\u001b[0m \u001b[0mValueError\u001b[0m\u001b[1;33m(\u001b[0m\u001b[1;34m\"Unknown label type: %r\"\u001b[0m \u001b[1;33m%\u001b[0m \u001b[0my_type\u001b[0m\u001b[1;33m)\u001b[0m\u001b[1;33m\u001b[0m\u001b[1;33m\u001b[0m\u001b[0m\n\u001b[0m\u001b[0;32m    173\u001b[0m \u001b[1;33m\u001b[0m\u001b[0m\n\u001b[0;32m    174\u001b[0m \u001b[1;33m\u001b[0m\u001b[0m\n",
      "\u001b[1;31mValueError\u001b[0m: Unknown label type: 'unknown'"
     ]
    }
   ],
   "source": [
    "from table_evaluator import load_data, TableEvaluator\n",
    "table_evaluator = TableEvaluator(diabetes, synthetic_data)\n",
    "for col in diabetes.columns:\n",
    "    print(table_evaluator.evaluate(target_col=col))"
   ]
  },
  {
   "cell_type": "code",
   "execution_count": null,
   "metadata": {},
   "outputs": [],
   "source": []
  }
 ],
 "metadata": {
  "kernelspec": {
   "display_name": "Python 3",
   "language": "python",
   "name": "python3"
  },
  "language_info": {
   "codemirror_mode": {
    "name": "ipython",
    "version": 3
   },
   "file_extension": ".py",
   "mimetype": "text/x-python",
   "name": "python",
   "nbconvert_exporter": "python",
   "pygments_lexer": "ipython3",
   "version": "3.8.5"
  }
 },
 "nbformat": 4,
 "nbformat_minor": 4
}
